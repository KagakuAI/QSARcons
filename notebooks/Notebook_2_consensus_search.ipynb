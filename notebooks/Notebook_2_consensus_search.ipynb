{
 "cells": [
  {
   "cell_type": "code",
   "execution_count": 1,
   "id": "eea7451f-cd08-4525-ab28-48bcb40fe3f2",
   "metadata": {},
   "outputs": [],
   "source": [
    "import os\n",
    "import sys\n",
    "\n",
    "# Current working directory of the notebook\n",
    "current_dir = os.getcwd()\n",
    "\n",
    "# Path to the folder one level above\n",
    "external_path = os.path.abspath(os.path.join(current_dir, '..'))\n",
    "\n",
    "if external_path not in sys.path:\n",
    "    sys.path.insert(0, external_path)"
   ]
  },
  {
   "cell_type": "code",
   "execution_count": 2,
   "id": "b0a34672-21e0-49ca-a53e-597f08aa65d0",
   "metadata": {},
   "outputs": [],
   "source": [
    "import pandas as pd\n",
    "\n",
    "from sklearn.ensemble import RandomForestRegressor\n",
    "from sklearn.metrics import r2_score\n",
    "\n",
    "from qsarcons.consensus import RandomSearchRegressor, SystematicSearchRegressor, GeneticSearchRegressor\n",
    "from qsarcons.consensus import RandomSearchClassifier, SystematicSearchClassifier, GeneticSearchClassifier"
   ]
  },
  {
   "cell_type": "markdown",
   "id": "87b98c5f-bd6b-4b04-8018-11a1c17dadd6",
   "metadata": {},
   "source": [
    "### Load built QSAR models\n",
    "\n",
    "The input data for consensus/stacking methods is a pandas DataFrame where each column is a model prediction. For benchmarking proposes, we need two tables:\n",
    "\n",
    "- Validation set predictions – they are used to find an optimal consensus or stacking ensemble\n",
    "- Test set predictions - is needed to evaluate the performance of the consensus/stacking"
   ]
  },
  {
   "cell_type": "markdown",
   "id": "d0fc3cf7-d5d1-4746-a478-ee7fe508d311",
   "metadata": {},
   "source": [
    "### Input file format\n",
    "\n",
    "The input CSV files (`train.csv` and `test.csv`) are expected to have the following format:\n",
    "- **Column 0** – SMILES (or any other molecule ID)\n",
    "- **Column 1** – Observed/Experimental property/activity values\n",
    "- **Columns 2+** – Model predictions (from individual QSAR models)"
   ]
  },
  {
   "cell_type": "code",
   "execution_count": 3,
   "id": "4a33ca4f-4c6a-457a-82f5-7fd9b9d1da73",
   "metadata": {},
   "outputs": [],
   "source": [
    "df_val = pd.read_csv(\"CHEMBL1785/val.csv\", )\n",
    "df_test = pd.read_csv(\"CHEMBL1785/test.csv\")"
   ]
  },
  {
   "cell_type": "code",
   "execution_count": 4,
   "id": "c0ba9e3c-a7bf-46ff-ba6d-8ecce6515dd7",
   "metadata": {},
   "outputs": [
    {
     "data": {
      "text/html": [
       "<div>\n",
       "<style scoped>\n",
       "    .dataframe tbody tr th:only-of-type {\n",
       "        vertical-align: middle;\n",
       "    }\n",
       "\n",
       "    .dataframe tbody tr th {\n",
       "        vertical-align: top;\n",
       "    }\n",
       "\n",
       "    .dataframe thead th {\n",
       "        text-align: right;\n",
       "    }\n",
       "</style>\n",
       "<table border=\"1\" class=\"dataframe\">\n",
       "  <thead>\n",
       "    <tr style=\"text-align: right;\">\n",
       "      <th></th>\n",
       "      <th>SMILES</th>\n",
       "      <th>Y_TRUE</th>\n",
       "      <th>atompair-count|BayesianRidge</th>\n",
       "      <th>atompair-count|DecisionTreeRegressor</th>\n",
       "      <th>atompair-count|ElasticNet</th>\n",
       "      <th>atompair-count|HuberRegressor</th>\n",
       "      <th>atompair-count|KNeighborsRegressor</th>\n",
       "      <th>atompair-count|Lasso</th>\n",
       "      <th>atompair-count|MLPRegressor</th>\n",
       "      <th>atompair-count|PLSRegression</th>\n",
       "      <th>...</th>\n",
       "      <th>topological|ElasticNet</th>\n",
       "      <th>topological|HuberRegressor</th>\n",
       "      <th>topological|KNeighborsRegressor</th>\n",
       "      <th>topological|Lasso</th>\n",
       "      <th>topological|MLPRegressor</th>\n",
       "      <th>topological|PLSRegression</th>\n",
       "      <th>topological|RandomForestRegressor</th>\n",
       "      <th>topological|RidgeRegression</th>\n",
       "      <th>topological|SVR</th>\n",
       "      <th>topological|XGBRegressor</th>\n",
       "    </tr>\n",
       "  </thead>\n",
       "  <tbody>\n",
       "    <tr>\n",
       "      <th>0</th>\n",
       "      <td>COCCOc1nc(NS(=O)(=O)NCc2ccccc2)c(Oc2ccccc2OC)c...</td>\n",
       "      <td>6.256</td>\n",
       "      <td>6.610020</td>\n",
       "      <td>6.306200</td>\n",
       "      <td>6.890746</td>\n",
       "      <td>7.309935</td>\n",
       "      <td>6.475773</td>\n",
       "      <td>6.829488</td>\n",
       "      <td>6.304784</td>\n",
       "      <td>6.444161</td>\n",
       "      <td>...</td>\n",
       "      <td>6.812998</td>\n",
       "      <td>5.728646</td>\n",
       "      <td>6.475603</td>\n",
       "      <td>6.468520</td>\n",
       "      <td>5.356423</td>\n",
       "      <td>6.243217</td>\n",
       "      <td>6.494189</td>\n",
       "      <td>6.314992</td>\n",
       "      <td>6.418615</td>\n",
       "      <td>6.628993</td>\n",
       "    </tr>\n",
       "    <tr>\n",
       "      <th>1</th>\n",
       "      <td>COc1cnc(O[C@H](C(=O)O)[C@@]2(c3ccccc3)NCC(=O)N...</td>\n",
       "      <td>5.034</td>\n",
       "      <td>5.543897</td>\n",
       "      <td>5.364375</td>\n",
       "      <td>5.313822</td>\n",
       "      <td>5.699822</td>\n",
       "      <td>5.631566</td>\n",
       "      <td>5.259852</td>\n",
       "      <td>4.507620</td>\n",
       "      <td>5.451443</td>\n",
       "      <td>...</td>\n",
       "      <td>5.720473</td>\n",
       "      <td>5.176263</td>\n",
       "      <td>5.306299</td>\n",
       "      <td>5.679028</td>\n",
       "      <td>5.425185</td>\n",
       "      <td>5.808187</td>\n",
       "      <td>5.386879</td>\n",
       "      <td>5.766536</td>\n",
       "      <td>5.120113</td>\n",
       "      <td>5.258121</td>\n",
       "    </tr>\n",
       "    <tr>\n",
       "      <th>2</th>\n",
       "      <td>CCOc1ccc2c(c1)c(=O)c(Cc1cccc(C(=O)O)c1)c(C(=O)...</td>\n",
       "      <td>5.506</td>\n",
       "      <td>6.069682</td>\n",
       "      <td>5.642833</td>\n",
       "      <td>6.222900</td>\n",
       "      <td>6.447204</td>\n",
       "      <td>5.950810</td>\n",
       "      <td>6.151965</td>\n",
       "      <td>6.365187</td>\n",
       "      <td>5.857042</td>\n",
       "      <td>...</td>\n",
       "      <td>5.792353</td>\n",
       "      <td>6.120300</td>\n",
       "      <td>5.804565</td>\n",
       "      <td>5.804876</td>\n",
       "      <td>6.102401</td>\n",
       "      <td>5.799607</td>\n",
       "      <td>5.865963</td>\n",
       "      <td>5.821107</td>\n",
       "      <td>6.008066</td>\n",
       "      <td>5.883258</td>\n",
       "    </tr>\n",
       "    <tr>\n",
       "      <th>3</th>\n",
       "      <td>CCOc1ccc2c(c1)c(-c1ccc(OC)cc1OC)c(C(=O)O)c(=O)...</td>\n",
       "      <td>6.268</td>\n",
       "      <td>6.046365</td>\n",
       "      <td>7.001400</td>\n",
       "      <td>6.301070</td>\n",
       "      <td>6.842113</td>\n",
       "      <td>6.001984</td>\n",
       "      <td>6.292202</td>\n",
       "      <td>6.563304</td>\n",
       "      <td>5.848380</td>\n",
       "      <td>...</td>\n",
       "      <td>5.795346</td>\n",
       "      <td>6.059051</td>\n",
       "      <td>5.908972</td>\n",
       "      <td>5.922968</td>\n",
       "      <td>6.206772</td>\n",
       "      <td>5.821332</td>\n",
       "      <td>5.954252</td>\n",
       "      <td>5.898207</td>\n",
       "      <td>5.992958</td>\n",
       "      <td>6.383691</td>\n",
       "    </tr>\n",
       "    <tr>\n",
       "      <th>4</th>\n",
       "      <td>Cc1ccc(S(=O)(=O)Nc2onc(C)c2Br)cc1</td>\n",
       "      <td>5.398</td>\n",
       "      <td>4.952641</td>\n",
       "      <td>5.333167</td>\n",
       "      <td>5.100456</td>\n",
       "      <td>5.492576</td>\n",
       "      <td>4.598690</td>\n",
       "      <td>5.098454</td>\n",
       "      <td>5.083330</td>\n",
       "      <td>4.882305</td>\n",
       "      <td>...</td>\n",
       "      <td>4.951271</td>\n",
       "      <td>5.060801</td>\n",
       "      <td>5.131640</td>\n",
       "      <td>4.970824</td>\n",
       "      <td>5.072250</td>\n",
       "      <td>4.818004</td>\n",
       "      <td>5.091551</td>\n",
       "      <td>4.989698</td>\n",
       "      <td>5.410053</td>\n",
       "      <td>5.154193</td>\n",
       "    </tr>\n",
       "  </tbody>\n",
       "</table>\n",
       "<p>5 rows × 230 columns</p>\n",
       "</div>"
      ],
      "text/plain": [
       "                                              SMILES  Y_TRUE  \\\n",
       "0  COCCOc1nc(NS(=O)(=O)NCc2ccccc2)c(Oc2ccccc2OC)c...   6.256   \n",
       "1  COc1cnc(O[C@H](C(=O)O)[C@@]2(c3ccccc3)NCC(=O)N...   5.034   \n",
       "2  CCOc1ccc2c(c1)c(=O)c(Cc1cccc(C(=O)O)c1)c(C(=O)...   5.506   \n",
       "3  CCOc1ccc2c(c1)c(-c1ccc(OC)cc1OC)c(C(=O)O)c(=O)...   6.268   \n",
       "4                  Cc1ccc(S(=O)(=O)Nc2onc(C)c2Br)cc1   5.398   \n",
       "\n",
       "   atompair-count|BayesianRidge  atompair-count|DecisionTreeRegressor  \\\n",
       "0                      6.610020                              6.306200   \n",
       "1                      5.543897                              5.364375   \n",
       "2                      6.069682                              5.642833   \n",
       "3                      6.046365                              7.001400   \n",
       "4                      4.952641                              5.333167   \n",
       "\n",
       "   atompair-count|ElasticNet  atompair-count|HuberRegressor  \\\n",
       "0                   6.890746                       7.309935   \n",
       "1                   5.313822                       5.699822   \n",
       "2                   6.222900                       6.447204   \n",
       "3                   6.301070                       6.842113   \n",
       "4                   5.100456                       5.492576   \n",
       "\n",
       "   atompair-count|KNeighborsRegressor  atompair-count|Lasso  \\\n",
       "0                            6.475773              6.829488   \n",
       "1                            5.631566              5.259852   \n",
       "2                            5.950810              6.151965   \n",
       "3                            6.001984              6.292202   \n",
       "4                            4.598690              5.098454   \n",
       "\n",
       "   atompair-count|MLPRegressor  atompair-count|PLSRegression  ...  \\\n",
       "0                     6.304784                      6.444161  ...   \n",
       "1                     4.507620                      5.451443  ...   \n",
       "2                     6.365187                      5.857042  ...   \n",
       "3                     6.563304                      5.848380  ...   \n",
       "4                     5.083330                      4.882305  ...   \n",
       "\n",
       "   topological|ElasticNet  topological|HuberRegressor  \\\n",
       "0                6.812998                    5.728646   \n",
       "1                5.720473                    5.176263   \n",
       "2                5.792353                    6.120300   \n",
       "3                5.795346                    6.059051   \n",
       "4                4.951271                    5.060801   \n",
       "\n",
       "   topological|KNeighborsRegressor  topological|Lasso  \\\n",
       "0                         6.475603           6.468520   \n",
       "1                         5.306299           5.679028   \n",
       "2                         5.804565           5.804876   \n",
       "3                         5.908972           5.922968   \n",
       "4                         5.131640           4.970824   \n",
       "\n",
       "   topological|MLPRegressor  topological|PLSRegression  \\\n",
       "0                  5.356423                   6.243217   \n",
       "1                  5.425185                   5.808187   \n",
       "2                  6.102401                   5.799607   \n",
       "3                  6.206772                   5.821332   \n",
       "4                  5.072250                   4.818004   \n",
       "\n",
       "   topological|RandomForestRegressor  topological|RidgeRegression  \\\n",
       "0                           6.494189                     6.314992   \n",
       "1                           5.386879                     5.766536   \n",
       "2                           5.865963                     5.821107   \n",
       "3                           5.954252                     5.898207   \n",
       "4                           5.091551                     4.989698   \n",
       "\n",
       "   topological|SVR  topological|XGBRegressor  \n",
       "0         6.418615                  6.628993  \n",
       "1         5.120113                  5.258121  \n",
       "2         6.008066                  5.883258  \n",
       "3         5.992958                  6.383691  \n",
       "4         5.410053                  5.154193  \n",
       "\n",
       "[5 rows x 230 columns]"
      ]
     },
     "execution_count": 4,
     "metadata": {},
     "output_type": "execute_result"
    }
   ],
   "source": [
    "df_test.head(5)"
   ]
  },
  {
   "cell_type": "code",
   "execution_count": 5,
   "id": "29cb1752-f317-4692-80ab-a6a3b3685da1",
   "metadata": {},
   "outputs": [],
   "source": [
    "# skip first two columns (smiles and true property value)\n",
    "x_val, true_val = df_val.iloc[:, 2:], df_val.iloc[:, 1]\n",
    "x_test, true_test = df_test.iloc[:, 2:], df_test.iloc[:, 1]"
   ]
  },
  {
   "cell_type": "markdown",
   "id": "81828d1b-5e5d-43d0-a3a5-da43a2b8ba5b",
   "metadata": {},
   "source": [
    "### Build Consensus / Stacking\n",
    "\n",
    "For consensus methods, there are two main parameters that must be predefined:\n",
    "\n",
    "**1. Metric**\n",
    "\n",
    "This is the *prediction accuracy metric* to be optimized. The following regression metrics are currently supported:\n",
    "\n",
    "- ``r2`` – Coefficient of determination\n",
    "- ``rmse`` – Root mean squared error\n",
    "- ``mae`` – Mean absolute error\n",
    "- ``spearmanr`` – Spearman rank correlation coefficient\n",
    "\n",
    "For benchmarking purposes, it is recommended to set the optimized metric to match the one used for estimating prediction accuracy on the test set.\n",
    "\n",
    "**2. Consensus Size**\n",
    "\n",
    "The *consensus size* determines how many models are included in the consensus. It can be defined in two ways:\n",
    "\n",
    "- **Manual selection**: for example, ``cons_size=10``\n",
    "- **Automatic selection**: e.g., ``cons_size=\"auto\", cons_size_candidates=[3, 5, 7, 9, 12, 15]``, where the best consensus size is chosen based on metric values computed on the validation set."
   ]
  },
  {
   "cell_type": "code",
   "execution_count": 6,
   "id": "893c2165-8d0a-4880-85bc-67b7438854d9",
   "metadata": {},
   "outputs": [],
   "source": [
    "def calc_accuracy(y_true, y_pred):\n",
    "    return r2_score(y_true, y_pred)"
   ]
  },
  {
   "cell_type": "code",
   "execution_count": 7,
   "id": "283d8254-0ea7-4e4b-b433-b86b60f21b88",
   "metadata": {},
   "outputs": [],
   "source": [
    "metric = \"auto\"\n",
    "cons_size = \"auto\"\n",
    "\n",
    "df_comp = pd.DataFrame()"
   ]
  },
  {
   "cell_type": "markdown",
   "id": "aef071b7-44cd-48ed-b500-fc80ceff92c9",
   "metadata": {},
   "source": [
    "### Best model\n",
    "\n",
    "Single best model"
   ]
  },
  {
   "cell_type": "code",
   "execution_count": 8,
   "id": "067eab8e-734e-43be-8b0a-8f6484efda9f",
   "metadata": {},
   "outputs": [
    {
     "data": {
      "text/plain": [
       "['atompair-count|XGBRegressor']"
      ]
     },
     "execution_count": 8,
     "metadata": {},
     "output_type": "execute_result"
    }
   ],
   "source": [
    "cons_searcher = SystematicSearchRegressor(cons_size=1, metric=metric)\n",
    "best_cons = cons_searcher.run(x_val, true_val)\n",
    "best_cons.to_list()"
   ]
  },
  {
   "cell_type": "code",
   "execution_count": 9,
   "id": "705feb17-ad83-4056-83e2-3d0100a21711",
   "metadata": {},
   "outputs": [
    {
     "data": {
      "text/html": [
       "<div>\n",
       "<style scoped>\n",
       "    .dataframe tbody tr th:only-of-type {\n",
       "        vertical-align: middle;\n",
       "    }\n",
       "\n",
       "    .dataframe tbody tr th {\n",
       "        vertical-align: top;\n",
       "    }\n",
       "\n",
       "    .dataframe thead th {\n",
       "        text-align: right;\n",
       "    }\n",
       "</style>\n",
       "<table border=\"1\" class=\"dataframe\">\n",
       "  <thead>\n",
       "    <tr style=\"text-align: right;\">\n",
       "      <th></th>\n",
       "      <th>Best</th>\n",
       "    </tr>\n",
       "  </thead>\n",
       "  <tbody>\n",
       "    <tr>\n",
       "      <th>val</th>\n",
       "      <td>0.806120</td>\n",
       "    </tr>\n",
       "    <tr>\n",
       "      <th>test</th>\n",
       "      <td>0.823806</td>\n",
       "    </tr>\n",
       "  </tbody>\n",
       "</table>\n",
       "</div>"
      ],
      "text/plain": [
       "          Best\n",
       "val   0.806120\n",
       "test  0.823806"
      ]
     },
     "execution_count": 9,
     "metadata": {},
     "output_type": "execute_result"
    }
   ],
   "source": [
    "# make val and test predictions\n",
    "pred_val = cons_searcher._consensus_predict(x_val[best_cons])\n",
    "pred_test = cons_searcher._consensus_predict(x_test[best_cons])\n",
    "\n",
    "# write prediction accuracy metric\n",
    "df_comp.loc[\"val\", \"Best\"] = calc_accuracy(true_val, pred_val)\n",
    "df_comp.loc[\"test\", \"Best\"] = calc_accuracy(true_test, pred_test)\n",
    "\n",
    "# display current results\n",
    "df_comp"
   ]
  },
  {
   "cell_type": "markdown",
   "id": "6c6d1a6f-2e64-4390-b7f1-7ee6c616d229",
   "metadata": {},
   "source": [
    "### Random consensus\n",
    "\n",
    "In a random search for optimal consensus the subset of models is chosen randomly and its prediction accuracy is computed. This procedure is repeated ``n_iter`` times, then the subset (consensus) with the highest prediction accuracy on the validation set is chosen as the best consensus."
   ]
  },
  {
   "cell_type": "code",
   "execution_count": 10,
   "id": "6072e62d-164b-4830-8a86-0ab4744835da",
   "metadata": {},
   "outputs": [
    {
     "data": {
      "text/plain": [
       "['pharm2D-gobbi|ElasticNet',\n",
       " 'atompair-count|Lasso',\n",
       " 'ecfp|XGBRegressor',\n",
       " 'desc2D|SVR',\n",
       " 'atompair-count|RandomForestRegressor']"
      ]
     },
     "execution_count": 10,
     "metadata": {},
     "output_type": "execute_result"
    }
   ],
   "source": [
    "cons_searcher = RandomSearchRegressor(cons_size=cons_size, n_iter=1000, metric=metric)\n",
    "best_cons = cons_searcher.run(x_val, true_val)\n",
    "best_cons.to_list()"
   ]
  },
  {
   "cell_type": "code",
   "execution_count": 11,
   "id": "98ec1525-71fe-4cce-8b1e-16f46c70da5b",
   "metadata": {},
   "outputs": [
    {
     "data": {
      "text/html": [
       "<div>\n",
       "<style scoped>\n",
       "    .dataframe tbody tr th:only-of-type {\n",
       "        vertical-align: middle;\n",
       "    }\n",
       "\n",
       "    .dataframe tbody tr th {\n",
       "        vertical-align: top;\n",
       "    }\n",
       "\n",
       "    .dataframe thead th {\n",
       "        text-align: right;\n",
       "    }\n",
       "</style>\n",
       "<table border=\"1\" class=\"dataframe\">\n",
       "  <thead>\n",
       "    <tr style=\"text-align: right;\">\n",
       "      <th></th>\n",
       "      <th>Best</th>\n",
       "      <th>Random</th>\n",
       "    </tr>\n",
       "  </thead>\n",
       "  <tbody>\n",
       "    <tr>\n",
       "      <th>val</th>\n",
       "      <td>0.806120</td>\n",
       "      <td>0.807083</td>\n",
       "    </tr>\n",
       "    <tr>\n",
       "      <th>test</th>\n",
       "      <td>0.823806</td>\n",
       "      <td>0.837412</td>\n",
       "    </tr>\n",
       "  </tbody>\n",
       "</table>\n",
       "</div>"
      ],
      "text/plain": [
       "          Best    Random\n",
       "val   0.806120  0.807083\n",
       "test  0.823806  0.837412"
      ]
     },
     "execution_count": 11,
     "metadata": {},
     "output_type": "execute_result"
    }
   ],
   "source": [
    "# make val and test predictions\n",
    "pred_val = cons_searcher._consensus_predict(x_val[best_cons])\n",
    "pred_test = cons_searcher._consensus_predict(x_test[best_cons])\n",
    "\n",
    "# write prediction accuracy metric\n",
    "df_comp.loc[\"val\", \"Random\"] = calc_accuracy(true_val, pred_val)\n",
    "df_comp.loc[\"test\", \"Random\"] = calc_accuracy(true_test, pred_test)\n",
    "\n",
    "# display current results\n",
    "df_comp"
   ]
  },
  {
   "cell_type": "markdown",
   "id": "a9d6ebd4-b9cd-428d-a040-f35097ad0818",
   "metadata": {},
   "source": [
    "### Systematic consensus\n",
    "\n",
    "In a systematic search for optimal consensus, all models are sorted according to their prediction accuracy on the validation set, and then the first *N* models (*N*=``cons_size``) are chosen as the best consensus."
   ]
  },
  {
   "cell_type": "code",
   "execution_count": 12,
   "id": "b0f131cc-1c8e-49d0-ae25-fa0ea9be2980",
   "metadata": {},
   "outputs": [
    {
     "data": {
      "text/plain": [
       "['atompair-count|XGBRegressor',\n",
       " 'atompair-count|RandomForestRegressor',\n",
       " 'ecfp-count|XGBRegressor',\n",
       " 'fcfp-count|XGBRegressor',\n",
       " 'ecfp-count|RandomForestRegressor',\n",
       " 'topological|RandomForestRegressor',\n",
       " 'atompair-count|BayesianRidge',\n",
       " 'ecfp|XGBRegressor',\n",
       " 'fcfp|XGBRegressor',\n",
       " 'topological|XGBRegressor',\n",
       " 'fcfp-count|RandomForestRegressor',\n",
       " 'rdkit|SVR',\n",
       " 'pharm2D-cats|XGBRegressor',\n",
       " 'atompair-count|RidgeRegression',\n",
       " 'rdkit|BayesianRidge']"
      ]
     },
     "execution_count": 12,
     "metadata": {},
     "output_type": "execute_result"
    }
   ],
   "source": [
    "cons_searcher = SystematicSearchRegressor(cons_size=cons_size, metric=metric)\n",
    "best_cons = cons_searcher.run(x_val, true_val)\n",
    "best_cons.to_list()"
   ]
  },
  {
   "cell_type": "code",
   "execution_count": 13,
   "id": "44f77cb1-7a1b-4a27-8f7f-5bc38aa8809b",
   "metadata": {},
   "outputs": [
    {
     "data": {
      "text/html": [
       "<div>\n",
       "<style scoped>\n",
       "    .dataframe tbody tr th:only-of-type {\n",
       "        vertical-align: middle;\n",
       "    }\n",
       "\n",
       "    .dataframe tbody tr th {\n",
       "        vertical-align: top;\n",
       "    }\n",
       "\n",
       "    .dataframe thead th {\n",
       "        text-align: right;\n",
       "    }\n",
       "</style>\n",
       "<table border=\"1\" class=\"dataframe\">\n",
       "  <thead>\n",
       "    <tr style=\"text-align: right;\">\n",
       "      <th></th>\n",
       "      <th>Best</th>\n",
       "      <th>Random</th>\n",
       "      <th>Systematic</th>\n",
       "    </tr>\n",
       "  </thead>\n",
       "  <tbody>\n",
       "    <tr>\n",
       "      <th>val</th>\n",
       "      <td>0.806120</td>\n",
       "      <td>0.807083</td>\n",
       "      <td>0.809657</td>\n",
       "    </tr>\n",
       "    <tr>\n",
       "      <th>test</th>\n",
       "      <td>0.823806</td>\n",
       "      <td>0.837412</td>\n",
       "      <td>0.846218</td>\n",
       "    </tr>\n",
       "  </tbody>\n",
       "</table>\n",
       "</div>"
      ],
      "text/plain": [
       "          Best    Random  Systematic\n",
       "val   0.806120  0.807083    0.809657\n",
       "test  0.823806  0.837412    0.846218"
      ]
     },
     "execution_count": 13,
     "metadata": {},
     "output_type": "execute_result"
    }
   ],
   "source": [
    "# make val and test predictions\n",
    "pred_val = cons_searcher._consensus_predict(x_val[best_cons])\n",
    "pred_test = cons_searcher._consensus_predict(x_test[best_cons])\n",
    "\n",
    "# write prediction accuracy metric\n",
    "df_comp.loc[\"val\", \"Systematic\"] = calc_accuracy(true_val, pred_val)\n",
    "df_comp.loc[\"test\", \"Systematic\"] = calc_accuracy(true_test, pred_test)\n",
    "\n",
    "# display current results\n",
    "df_comp"
   ]
  },
  {
   "cell_type": "markdown",
   "id": "4fbe24d0-5efd-437d-a836-fc28e2cebae8",
   "metadata": {},
   "source": [
    "### Genetic consensus\n",
    "\n",
    "In a genetic search for optimal consensus, the best consensus of models is being founded using a genetic algorithm. In this case, the objective function is a prediction accuracy for the consensus (individual). "
   ]
  },
  {
   "cell_type": "code",
   "execution_count": 14,
   "id": "aad15d79-1492-4f35-a197-5a4addf46a72",
   "metadata": {},
   "outputs": [
    {
     "data": {
      "text/plain": [
       "['atompair-count|XGBRegressor',\n",
       " 'cats2d|RandomForestRegressor',\n",
       " 'rdkit|MLPRegressor',\n",
       " 'atompair-count|RidgeRegression',\n",
       " 'pharm2D-gobbi|PLSRegression',\n",
       " 'ecfp-count|XGBRegressor',\n",
       " 'topological|XGBRegressor']"
      ]
     },
     "execution_count": 14,
     "metadata": {},
     "output_type": "execute_result"
    }
   ],
   "source": [
    "cons_searcher = GeneticSearchRegressor(cons_size=cons_size, n_iter=50, pop_size=50, mut_prob=0.2, metric=metric)\n",
    "best_cons = cons_searcher.run(x_val, true_val)\n",
    "best_cons.to_list()"
   ]
  },
  {
   "cell_type": "code",
   "execution_count": 15,
   "id": "86059e60-ed31-4976-be3b-a38e70c97b8e",
   "metadata": {},
   "outputs": [
    {
     "data": {
      "text/html": [
       "<div>\n",
       "<style scoped>\n",
       "    .dataframe tbody tr th:only-of-type {\n",
       "        vertical-align: middle;\n",
       "    }\n",
       "\n",
       "    .dataframe tbody tr th {\n",
       "        vertical-align: top;\n",
       "    }\n",
       "\n",
       "    .dataframe thead th {\n",
       "        text-align: right;\n",
       "    }\n",
       "</style>\n",
       "<table border=\"1\" class=\"dataframe\">\n",
       "  <thead>\n",
       "    <tr style=\"text-align: right;\">\n",
       "      <th></th>\n",
       "      <th>Best</th>\n",
       "      <th>Random</th>\n",
       "      <th>Systematic</th>\n",
       "      <th>Genetic</th>\n",
       "    </tr>\n",
       "  </thead>\n",
       "  <tbody>\n",
       "    <tr>\n",
       "      <th>val</th>\n",
       "      <td>0.806120</td>\n",
       "      <td>0.807083</td>\n",
       "      <td>0.809657</td>\n",
       "      <td>0.819432</td>\n",
       "    </tr>\n",
       "    <tr>\n",
       "      <th>test</th>\n",
       "      <td>0.823806</td>\n",
       "      <td>0.837412</td>\n",
       "      <td>0.846218</td>\n",
       "      <td>0.847721</td>\n",
       "    </tr>\n",
       "  </tbody>\n",
       "</table>\n",
       "</div>"
      ],
      "text/plain": [
       "          Best    Random  Systematic   Genetic\n",
       "val   0.806120  0.807083    0.809657  0.819432\n",
       "test  0.823806  0.837412    0.846218  0.847721"
      ]
     },
     "execution_count": 15,
     "metadata": {},
     "output_type": "execute_result"
    }
   ],
   "source": [
    "# make val and test predictions\n",
    "pred_val = cons_searcher._consensus_predict(x_val[best_cons])\n",
    "pred_test = cons_searcher._consensus_predict(x_test[best_cons])\n",
    "\n",
    "# write prediction accuracy metric\n",
    "df_comp.loc[\"val\", \"Genetic\"] = calc_accuracy(true_val, pred_val)\n",
    "df_comp.loc[\"test\", \"Genetic\"] = calc_accuracy(true_test, pred_test)\n",
    "\n",
    "# display current results\n",
    "df_comp"
   ]
  },
  {
   "cell_type": "markdown",
   "id": "85996199-a80f-4b50-894e-29aacd11cdf9",
   "metadata": {},
   "source": [
    "### Classifier consensus\n",
    "\n",
    "Classifier consensus"
   ]
  },
  {
   "cell_type": "code",
   "execution_count": 16,
   "id": "d95d3e65-6abf-4a68-9805-b856dfef36df",
   "metadata": {},
   "outputs": [],
   "source": [
    "from sklearn.metrics import accuracy_score, roc_auc_score"
   ]
  },
  {
   "cell_type": "code",
   "execution_count": 17,
   "id": "9be26e1f-7560-4a7f-bb0a-74a29596c3b3",
   "metadata": {},
   "outputs": [],
   "source": [
    "def calc_accuracy(y_true, y_pred):\n",
    "    return roc_auc_score(y_true, y_pred)"
   ]
  },
  {
   "cell_type": "code",
   "execution_count": 18,
   "id": "40e283a1-80d9-482b-b75c-519e87e929f9",
   "metadata": {},
   "outputs": [],
   "source": [
    "metric = \"auto\"\n",
    "cons_size = \"auto\"\n",
    "\n",
    "df_comp = pd.DataFrame()"
   ]
  },
  {
   "cell_type": "code",
   "execution_count": 19,
   "id": "2b638b01-2c4d-4c7a-a564-29f45d6963a4",
   "metadata": {},
   "outputs": [],
   "source": [
    "cons_class_methods = [\n",
    "    (\"Best\", SystematicSearchClassifier(cons_size=1, metric=metric)),         \n",
    "    (\"Random\", RandomSearchClassifier(cons_size=cons_size, n_iter=1000, metric=metric)),       \n",
    "    (\"Systematic\", SystematicSearchClassifier(cons_size=cons_size, metric=metric)),\n",
    "    (\"Genetic\", GeneticSearchClassifier(cons_size=cons_size, n_iter=50, pop_size=50, mut_prob=0.2, metric=metric))\n",
    "]"
   ]
  },
  {
   "cell_type": "code",
   "execution_count": 20,
   "id": "f225ac0f-cf23-4033-8973-e2c62d5b4f23",
   "metadata": {},
   "outputs": [],
   "source": [
    "# load model predictions\n",
    "df_val = pd.read_csv(\"../bench_hopt/tdc/herg_clf/val.csv\")\n",
    "df_test = pd.read_csv(\"../bench_hopt/tdc/herg_clf/test.csv\")\n",
    "\n",
    "# skip first two columns (smiles and true property value)\n",
    "x_val, true_val = df_val.iloc[:, 2:], df_val.iloc[:, 1]\n",
    "x_test, true_test = df_test.iloc[:, 2:], df_test.iloc[:, 1]"
   ]
  },
  {
   "cell_type": "code",
   "execution_count": 21,
   "id": "26e2dd9a-9d1e-4202-a0ea-6a9d2ebddafa",
   "metadata": {
    "scrolled": true
   },
   "outputs": [],
   "source": [
    "for name, cons_searcher in cons_class_methods:\n",
    "    # run search\n",
    "    best_cons = cons_searcher.run(x_val, true_val)\n",
    "    \n",
    "    # make val and test predictions\n",
    "    pred_val = cons_searcher._consensus_predict(x_val[best_cons])\n",
    "    pred_test = cons_searcher._consensus_predict(x_test[best_cons])\n",
    "    \n",
    "    # # write prediction accuracy metric\n",
    "    df_comp.loc[\"val\", name] = roc_auc_score(true_val, pred_val)\n",
    "    df_comp.loc[\"test\", name] = roc_auc_score(true_test, pred_test)"
   ]
  },
  {
   "cell_type": "code",
   "execution_count": 22,
   "id": "de33599a-e5b1-4a5d-807b-c40408a84cbe",
   "metadata": {},
   "outputs": [
    {
     "data": {
      "text/html": [
       "<div>\n",
       "<style scoped>\n",
       "    .dataframe tbody tr th:only-of-type {\n",
       "        vertical-align: middle;\n",
       "    }\n",
       "\n",
       "    .dataframe tbody tr th {\n",
       "        vertical-align: top;\n",
       "    }\n",
       "\n",
       "    .dataframe thead th {\n",
       "        text-align: right;\n",
       "    }\n",
       "</style>\n",
       "<table border=\"1\" class=\"dataframe\">\n",
       "  <thead>\n",
       "    <tr style=\"text-align: right;\">\n",
       "      <th></th>\n",
       "      <th>Best</th>\n",
       "      <th>Random</th>\n",
       "      <th>Systematic</th>\n",
       "      <th>Genetic</th>\n",
       "    </tr>\n",
       "  </thead>\n",
       "  <tbody>\n",
       "    <tr>\n",
       "      <th>val</th>\n",
       "      <td>0.813</td>\n",
       "      <td>0.842</td>\n",
       "      <td>0.835</td>\n",
       "      <td>0.873</td>\n",
       "    </tr>\n",
       "    <tr>\n",
       "      <th>test</th>\n",
       "      <td>0.641</td>\n",
       "      <td>0.695</td>\n",
       "      <td>0.633</td>\n",
       "      <td>0.704</td>\n",
       "    </tr>\n",
       "  </tbody>\n",
       "</table>\n",
       "</div>"
      ],
      "text/plain": [
       "       Best  Random  Systematic  Genetic\n",
       "val   0.813   0.842       0.835    0.873\n",
       "test  0.641   0.695       0.633    0.704"
      ]
     },
     "execution_count": 22,
     "metadata": {},
     "output_type": "execute_result"
    }
   ],
   "source": [
    "df_comp.round(3)"
   ]
  },
  {
   "cell_type": "code",
   "execution_count": null,
   "id": "8a107c2b-9c32-4544-b697-bef49fd0d5f7",
   "metadata": {},
   "outputs": [],
   "source": []
  },
  {
   "cell_type": "code",
   "execution_count": null,
   "id": "35e13720-538d-4c1d-b271-8630b0d36d65",
   "metadata": {},
   "outputs": [],
   "source": []
  }
 ],
 "metadata": {
  "kernelspec": {
   "display_name": "qsarcons",
   "language": "python",
   "name": "qsarcons"
  },
  "language_info": {
   "codemirror_mode": {
    "name": "ipython",
    "version": 3
   },
   "file_extension": ".py",
   "mimetype": "text/x-python",
   "name": "python",
   "nbconvert_exporter": "python",
   "pygments_lexer": "ipython3",
   "version": "3.13.3"
  }
 },
 "nbformat": 4,
 "nbformat_minor": 5
}
