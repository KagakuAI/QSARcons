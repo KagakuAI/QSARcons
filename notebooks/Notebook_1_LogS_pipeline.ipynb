{
 "cells": [
  {
   "cell_type": "code",
   "execution_count": 1,
   "id": "b0a34672-21e0-49ca-a53e-597f08aa65d0",
   "metadata": {},
   "outputs": [
    {
     "name": "stderr",
     "output_type": "stream",
     "text": [
      "/storage/dmitry/miniforge3/envs/qsarmil/lib/python3.10/site-packages/tqdm/auto.py:21: TqdmWarning: IProgress not found. Please update jupyter and ipywidgets. See https://ipywidgets.readthedocs.io/en/stable/user_install.html\n",
      "  from .autonotebook import tqdm as notebook_tqdm\n"
     ]
    }
   ],
   "source": [
    "import polaris\n",
    "import pandas as pd\n",
    "\n",
    "from sklearn.model_selection import train_test_split\n",
    "from sklearn.metrics import r2_score\n",
    "\n",
    "from qsarcons.lazy import LazyML\n",
    "from qsarcons.consensus import RandomSearchRegressor, SystematicSearchRegressor, GeneticSearchRegressor"
   ]
  },
  {
   "cell_type": "markdown",
   "id": "7b5be903-f368-4a1b-812a-35b404569643",
   "metadata": {},
   "source": [
    "### 1. Load data"
   ]
  },
  {
   "cell_type": "code",
   "execution_count": 3,
   "id": "a3ede612-9ced-42b8-a638-3d5a6dd6d2fe",
   "metadata": {},
   "outputs": [
    {
     "data": {
      "text/html": [
       "<pre style=\"white-space:pre;overflow-x:auto;line-height:normal;font-family:Menlo,'DejaVu Sans Mono',consolas,'Courier New',monospace\"><span style=\"color: #7fbfbf; text-decoration-color: #7fbfbf\">[2025-10-06 07:14:45] </span><span style=\"color: #000080; text-decoration-color: #000080\">INFO    </span> The version of Polaris that was used to create the artifact <span style=\"font-weight: bold\">(</span><span style=\"color: #008080; text-decoration-color: #008080; font-weight: bold\">0.0</span>.<span style=\"color: #008080; text-decoration-color: #008080; font-weight: bold\">0</span><span style=\"font-weight: bold\">)</span>  <a href=\"file:///storage/dmitry/miniforge3/envs/qsarmil/lib/python3.10/site-packages/polaris/_artifact.py\" target=\"_blank\"><span style=\"color: #7f7f7f; text-decoration-color: #7f7f7f\">_artifact.py</span></a><span style=\"color: #7f7f7f; text-decoration-color: #7f7f7f\">:</span><a href=\"file:///storage/dmitry/miniforge3/envs/qsarmil/lib/python3.10/site-packages/polaris/_artifact.py#96\" target=\"_blank\"><span style=\"color: #7f7f7f; text-decoration-color: #7f7f7f\">96</span></a>\n",
       "<span style=\"color: #7fbfbf; text-decoration-color: #7fbfbf\">                      </span>         is different from the currently installed version of Polaris         <span style=\"color: #7f7f7f; text-decoration-color: #7f7f7f\">               </span>\n",
       "<span style=\"color: #7fbfbf; text-decoration-color: #7fbfbf\">                      </span>         <span style=\"font-weight: bold\">(</span><span style=\"color: #008080; text-decoration-color: #008080; font-weight: bold\">0.13</span>.<span style=\"color: #008080; text-decoration-color: #008080; font-weight: bold\">0</span><span style=\"font-weight: bold\">)</span>.                                                            <span style=\"color: #7f7f7f; text-decoration-color: #7f7f7f\">               </span>\n",
       "</pre>\n"
      ],
      "text/plain": [
       "\u001b[2;36m[2025-10-06 07:14:45]\u001b[0m\u001b[2;36m \u001b[0m\u001b[34mINFO    \u001b[0m The version of Polaris that was used to create the artifact \u001b[1m(\u001b[0m\u001b[1;36m0.0\u001b[0m.\u001b[1;36m0\u001b[0m\u001b[1m)\u001b[0m  \u001b]8;id=666880;file:///storage/dmitry/miniforge3/envs/qsarmil/lib/python3.10/site-packages/polaris/_artifact.py\u001b\\\u001b[2m_artifact.py\u001b[0m\u001b]8;;\u001b\\\u001b[2m:\u001b[0m\u001b]8;id=234449;file:///storage/dmitry/miniforge3/envs/qsarmil/lib/python3.10/site-packages/polaris/_artifact.py#96\u001b\\\u001b[2m96\u001b[0m\u001b]8;;\u001b\\\n",
       "\u001b[2;36m                      \u001b[0m         is different from the currently installed version of Polaris         \u001b[2m               \u001b[0m\n",
       "\u001b[2;36m                      \u001b[0m         \u001b[1m(\u001b[0m\u001b[1;36m0.13\u001b[0m.\u001b[1;36m0\u001b[0m\u001b[1m)\u001b[0m.                                                            \u001b[2m               \u001b[0m\n"
      ]
     },
     "metadata": {},
     "output_type": "display_data"
    },
    {
     "data": {
      "text/html": [
       "<pre style=\"white-space:pre;overflow-x:auto;line-height:normal;font-family:Menlo,'DejaVu Sans Mono',consolas,'Courier New',monospace\"><span style=\"color: #7fbfbf; text-decoration-color: #7fbfbf\">                      </span><span style=\"color: #000080; text-decoration-color: #000080\">INFO    </span> To verify the checksum, we need to recompute it. This can be slow    <a href=\"file:///storage/dmitry/miniforge3/envs/qsarmil/lib/python3.10/site-packages/polaris/mixins/_checksum.py\" target=\"_blank\"><span style=\"color: #7f7f7f; text-decoration-color: #7f7f7f\">_checksum.py</span></a><span style=\"color: #7f7f7f; text-decoration-color: #7f7f7f\">:</span><a href=\"file:///storage/dmitry/miniforge3/envs/qsarmil/lib/python3.10/site-packages/polaris/mixins/_checksum.py#67\" target=\"_blank\"><span style=\"color: #7f7f7f; text-decoration-color: #7f7f7f\">67</span></a>\n",
       "<span style=\"color: #7fbfbf; text-decoration-color: #7fbfbf\">                      </span>         for large datasets.                                                  <span style=\"color: #7f7f7f; text-decoration-color: #7f7f7f\">               </span>\n",
       "</pre>\n"
      ],
      "text/plain": [
       "\u001b[2;36m                     \u001b[0m\u001b[2;36m \u001b[0m\u001b[34mINFO    \u001b[0m To verify the checksum, we need to recompute it. This can be slow    \u001b]8;id=292307;file:///storage/dmitry/miniforge3/envs/qsarmil/lib/python3.10/site-packages/polaris/mixins/_checksum.py\u001b\\\u001b[2m_checksum.py\u001b[0m\u001b]8;;\u001b\\\u001b[2m:\u001b[0m\u001b]8;id=780069;file:///storage/dmitry/miniforge3/envs/qsarmil/lib/python3.10/site-packages/polaris/mixins/_checksum.py#67\u001b\\\u001b[2m67\u001b[0m\u001b]8;;\u001b\\\n",
       "\u001b[2;36m                      \u001b[0m         for large datasets.                                                  \u001b[2m               \u001b[0m\n"
      ]
     },
     "metadata": {},
     "output_type": "display_data"
    },
    {
     "data": {
      "text/html": [
       "<pre style=\"white-space:pre;overflow-x:auto;line-height:normal;font-family:Menlo,'DejaVu Sans Mono',consolas,'Courier New',monospace\"><span style=\"color: #7fbfbf; text-decoration-color: #7fbfbf\">[07:14:45] </span><span style=\"color: #008000; text-decoration-color: #008000\"> Success: Fetching dataset</span>                                                                 <a href=\"file:///storage/dmitry/miniforge3/envs/qsarmil/lib/python3.10/site-packages/polaris/utils/context.py\" target=\"_blank\"><span style=\"color: #7f7f7f; text-decoration-color: #7f7f7f\">context.py</span></a><span style=\"color: #7f7f7f; text-decoration-color: #7f7f7f\">:</span><a href=\"file:///storage/dmitry/miniforge3/envs/qsarmil/lib/python3.10/site-packages/polaris/utils/context.py#53\" target=\"_blank\"><span style=\"color: #7f7f7f; text-decoration-color: #7f7f7f\">53</span></a>\n",
       "</pre>\n"
      ],
      "text/plain": [
       "\u001b[2;36m[07:14:45]\u001b[0m\u001b[2;36m \u001b[0m\u001b[32m Success: Fetching dataset\u001b[0m                                                                 \u001b]8;id=192660;file:///storage/dmitry/miniforge3/envs/qsarmil/lib/python3.10/site-packages/polaris/utils/context.py\u001b\\\u001b[2mcontext.py\u001b[0m\u001b]8;;\u001b\\\u001b[2m:\u001b[0m\u001b]8;id=185980;file:///storage/dmitry/miniforge3/envs/qsarmil/lib/python3.10/site-packages/polaris/utils/context.py#53\u001b\\\u001b[2m53\u001b[0m\u001b]8;;\u001b\\\n"
      ]
     },
     "metadata": {},
     "output_type": "display_data"
    },
    {
     "data": {
      "text/html": [
       "<pre style=\"white-space:pre;overflow-x:auto;line-height:normal;font-family:Menlo,'DejaVu Sans Mono',consolas,'Courier New',monospace\"><span style=\"color: #7fbfbf; text-decoration-color: #7fbfbf\">                      </span><span style=\"color: #000080; text-decoration-color: #000080\">INFO    </span> The version of Polaris that was used to create the artifact <span style=\"font-weight: bold\">(</span><span style=\"color: #008080; text-decoration-color: #008080; font-weight: bold\">0.0</span>.<span style=\"color: #008080; text-decoration-color: #008080; font-weight: bold\">0</span><span style=\"font-weight: bold\">)</span>  <a href=\"file:///storage/dmitry/miniforge3/envs/qsarmil/lib/python3.10/site-packages/polaris/_artifact.py\" target=\"_blank\"><span style=\"color: #7f7f7f; text-decoration-color: #7f7f7f\">_artifact.py</span></a><span style=\"color: #7f7f7f; text-decoration-color: #7f7f7f\">:</span><a href=\"file:///storage/dmitry/miniforge3/envs/qsarmil/lib/python3.10/site-packages/polaris/_artifact.py#96\" target=\"_blank\"><span style=\"color: #7f7f7f; text-decoration-color: #7f7f7f\">96</span></a>\n",
       "<span style=\"color: #7fbfbf; text-decoration-color: #7fbfbf\">                      </span>         is different from the currently installed version of Polaris         <span style=\"color: #7f7f7f; text-decoration-color: #7f7f7f\">               </span>\n",
       "<span style=\"color: #7fbfbf; text-decoration-color: #7fbfbf\">                      </span>         <span style=\"font-weight: bold\">(</span><span style=\"color: #008080; text-decoration-color: #008080; font-weight: bold\">0.13</span>.<span style=\"color: #008080; text-decoration-color: #008080; font-weight: bold\">0</span><span style=\"font-weight: bold\">)</span>.                                                            <span style=\"color: #7f7f7f; text-decoration-color: #7f7f7f\">               </span>\n",
       "</pre>\n"
      ],
      "text/plain": [
       "\u001b[2;36m                     \u001b[0m\u001b[2;36m \u001b[0m\u001b[34mINFO    \u001b[0m The version of Polaris that was used to create the artifact \u001b[1m(\u001b[0m\u001b[1;36m0.0\u001b[0m.\u001b[1;36m0\u001b[0m\u001b[1m)\u001b[0m  \u001b]8;id=957055;file:///storage/dmitry/miniforge3/envs/qsarmil/lib/python3.10/site-packages/polaris/_artifact.py\u001b\\\u001b[2m_artifact.py\u001b[0m\u001b]8;;\u001b\\\u001b[2m:\u001b[0m\u001b]8;id=59990;file:///storage/dmitry/miniforge3/envs/qsarmil/lib/python3.10/site-packages/polaris/_artifact.py#96\u001b\\\u001b[2m96\u001b[0m\u001b]8;;\u001b\\\n",
       "\u001b[2;36m                      \u001b[0m         is different from the currently installed version of Polaris         \u001b[2m               \u001b[0m\n",
       "\u001b[2;36m                      \u001b[0m         \u001b[1m(\u001b[0m\u001b[1;36m0.13\u001b[0m.\u001b[1;36m0\u001b[0m\u001b[1m)\u001b[0m.                                                            \u001b[2m               \u001b[0m\n"
      ]
     },
     "metadata": {},
     "output_type": "display_data"
    },
    {
     "data": {
      "text/html": [
       "<pre style=\"white-space:pre;overflow-x:auto;line-height:normal;font-family:Menlo,'DejaVu Sans Mono',consolas,'Courier New',monospace\"><span style=\"color: #7fbfbf; text-decoration-color: #7fbfbf\">                      </span><span style=\"color: #808000; text-decoration-color: #808000\">WARNING </span> No checksum to verify against. Specify either the md5sum parameter   <a href=\"file:///storage/dmitry/miniforge3/envs/qsarmil/lib/python3.10/site-packages/polaris/mixins/_checksum.py\" target=\"_blank\"><span style=\"color: #7f7f7f; text-decoration-color: #7f7f7f\">_checksum.py</span></a><span style=\"color: #7f7f7f; text-decoration-color: #7f7f7f\">:</span><a href=\"file:///storage/dmitry/miniforge3/envs/qsarmil/lib/python3.10/site-packages/polaris/mixins/_checksum.py#60\" target=\"_blank\"><span style=\"color: #7f7f7f; text-decoration-color: #7f7f7f\">60</span></a>\n",
       "<span style=\"color: #7fbfbf; text-decoration-color: #7fbfbf\">                      </span>         or store the checksum in the dataset.md5sum attribute.               <span style=\"color: #7f7f7f; text-decoration-color: #7f7f7f\">               </span>\n",
       "</pre>\n"
      ],
      "text/plain": [
       "\u001b[2;36m                     \u001b[0m\u001b[2;36m \u001b[0m\u001b[33mWARNING \u001b[0m No checksum to verify against. Specify either the md5sum parameter   \u001b]8;id=898014;file:///storage/dmitry/miniforge3/envs/qsarmil/lib/python3.10/site-packages/polaris/mixins/_checksum.py\u001b\\\u001b[2m_checksum.py\u001b[0m\u001b]8;;\u001b\\\u001b[2m:\u001b[0m\u001b]8;id=316851;file:///storage/dmitry/miniforge3/envs/qsarmil/lib/python3.10/site-packages/polaris/mixins/_checksum.py#60\u001b\\\u001b[2m60\u001b[0m\u001b]8;;\u001b\\\n",
       "\u001b[2;36m                      \u001b[0m         or store the checksum in the dataset.md5sum attribute.               \u001b[2m               \u001b[0m\n"
      ]
     },
     "metadata": {},
     "output_type": "display_data"
    },
    {
     "data": {
      "text/html": [
       "<pre style=\"white-space:pre;overflow-x:auto;line-height:normal;font-family:Menlo,'DejaVu Sans Mono',consolas,'Courier New',monospace\"><span style=\"color: #7fbfbf; text-decoration-color: #7fbfbf\">           </span><span style=\"color: #008000; text-decoration-color: #008000\"> Success: Fetching benchmark</span>                                                               <a href=\"file:///storage/dmitry/miniforge3/envs/qsarmil/lib/python3.10/site-packages/polaris/utils/context.py\" target=\"_blank\"><span style=\"color: #7f7f7f; text-decoration-color: #7f7f7f\">context.py</span></a><span style=\"color: #7f7f7f; text-decoration-color: #7f7f7f\">:</span><a href=\"file:///storage/dmitry/miniforge3/envs/qsarmil/lib/python3.10/site-packages/polaris/utils/context.py#53\" target=\"_blank\"><span style=\"color: #7f7f7f; text-decoration-color: #7f7f7f\">53</span></a>\n",
       "</pre>\n"
      ],
      "text/plain": [
       "\u001b[2;36m          \u001b[0m\u001b[2;36m \u001b[0m\u001b[32m Success: Fetching benchmark\u001b[0m                                                               \u001b]8;id=803337;file:///storage/dmitry/miniforge3/envs/qsarmil/lib/python3.10/site-packages/polaris/utils/context.py\u001b\\\u001b[2mcontext.py\u001b[0m\u001b]8;;\u001b\\\u001b[2m:\u001b[0m\u001b]8;id=922660;file:///storage/dmitry/miniforge3/envs/qsarmil/lib/python3.10/site-packages/polaris/utils/context.py#53\u001b\\\u001b[2m53\u001b[0m\u001b]8;;\u001b\\\n"
      ]
     },
     "metadata": {},
     "output_type": "display_data"
    },
    {
     "data": {
      "text/html": [
       "<pre style=\"white-space:pre;overflow-x:auto;line-height:normal;font-family:Menlo,'DejaVu Sans Mono',consolas,'Courier New',monospace\"></pre>\n"
      ],
      "text/plain": []
     },
     "metadata": {},
     "output_type": "display_data"
    }
   ],
   "source": [
    "# Load the benchmark from the Hub\n",
    "benchmark = polaris.load_benchmark(\"polaris/adme-fang-solu-1\")\n",
    "\n",
    "# Get the train and test data-loaders\n",
    "data_train, data_test = benchmark.get_train_test_split()\n",
    "data_train, data_test = data_train.as_dataframe(), data_test.as_dataframe()\n",
    "\n",
    "smi_train, prop_train = data_train[\"smiles\"].to_list(), data_train[\"LOG_SOLUBILITY\"].to_list()\n",
    "\n",
    "data_train, data_val = train_test_split(data_train, test_size=0.2, random_state=42)"
   ]
  },
  {
   "cell_type": "markdown",
   "id": "23ed66e1-5365-4be2-8771-f929bce05202",
   "metadata": {},
   "source": [
    "### 2. Build multiple 2D models"
   ]
  },
  {
   "cell_type": "code",
   "execution_count": 4,
   "id": "74b18eff-a32c-4e24-9bd5-c8700af96d9a",
   "metadata": {
    "scrolled": true
   },
   "outputs": [
    {
     "name": "stdout",
     "output_type": "stream",
     "text": [
      "Total models to build: 152\n"
     ]
    },
    {
     "name": "stderr",
     "output_type": "stream",
     "text": [
      "100%|█████████████████████████████████████████████████████████████████████████████████| 152/152 [20:45<00:00,  8.19s/it]"
     ]
    },
    {
     "name": "stdout",
     "output_type": "stream",
     "text": [
      "All models completed.\n"
     ]
    },
    {
     "name": "stderr",
     "output_type": "stream",
     "text": [
      "\n"
     ]
    },
    {
     "data": {
      "text/plain": [
       "<qsarcons.lazy.LazyML at 0x7f423d838610>"
      ]
     },
     "execution_count": 4,
     "metadata": {},
     "output_type": "execute_result"
    }
   ],
   "source": [
    "data_test[\"LogS\"] = [0 for i in data_test.index]\n",
    "\n",
    "# lazy_ml = LazyML(task=\"regression\", output_folder=\"logs_bench\", verbose=True)\n",
    "# lazy_ml.run(data_train, data_val, data_test)"
   ]
  },
  {
   "cell_type": "markdown",
   "id": "8dc53fd8-7b77-43d9-aff0-4322e5bae5c7",
   "metadata": {},
   "source": [
    "### 3. Build model consensus"
   ]
  },
  {
   "cell_type": "code",
   "execution_count": 5,
   "id": "283d8254-0ea7-4e4b-b433-b86b60f21b88",
   "metadata": {},
   "outputs": [],
   "source": [
    "metric = \"auto\"\n",
    "cons_size = \"auto\""
   ]
  },
  {
   "cell_type": "code",
   "execution_count": 7,
   "id": "ba69d740-14df-4bd3-bf68-cdf2dfa9a2a1",
   "metadata": {},
   "outputs": [],
   "source": [
    "cons_methods = [\n",
    "    (\"Best\", SystematicSearchRegressor(cons_size=1, metric=metric)),         \n",
    "    (\"Random\", RandomSearchRegressor(cons_size=cons_size, n_iter=1000, metric=metric)),       \n",
    "    (\"Systematic\", SystematicSearchRegressor(cons_size=cons_size, metric=metric)),\n",
    "    (\"Genetic\", GeneticSearchRegressor(cons_size=cons_size, n_iter=50, pop_size=50, mut_prob=0.2, metric=metric))\n",
    "]"
   ]
  },
  {
   "cell_type": "code",
   "execution_count": 10,
   "id": "d2bec8be-dd6a-4511-9ed7-49b75c0d9875",
   "metadata": {},
   "outputs": [],
   "source": [
    "# load model predictions\n",
    "df_val = pd.read_csv(\"logs_bench/val.csv\")\n",
    "df_test = pd.read_csv(\"logs_bench/test.csv\")\n",
    "\n",
    "# skip first two columns (smiles and true property value)\n",
    "x_val, true_val = df_val.iloc[:, 2:], df_val.iloc[:, 1]\n",
    "x_test = df_test.iloc[:, 2:]"
   ]
  },
  {
   "cell_type": "code",
   "execution_count": 11,
   "id": "74c84355-d2ac-4439-87de-ded949553f66",
   "metadata": {},
   "outputs": [],
   "source": [
    "for name, cons_searcher in cons_methods:\n",
    "    \n",
    "    # run search\n",
    "    best_cons = cons_searcher.run(x_val, true_val)\n",
    "    \n",
    "    # make val and test predictions\n",
    "    pred_val = cons_searcher._consensus_predict(x_val[best_cons])\n",
    "    pred_test = cons_searcher._consensus_predict(x_test[best_cons])\n",
    "    \n",
    "    # write prediction accuracy metric\n",
    "    df_val[name] = pred_val\n",
    "    df_test[name] = pred_test"
   ]
  },
  {
   "cell_type": "markdown",
   "id": "5d580fdf-ff9a-40e0-b544-9890782a18b4",
   "metadata": {},
   "source": [
    "### 4. Summurize results"
   ]
  },
  {
   "cell_type": "code",
   "execution_count": 15,
   "id": "a7afb400-1dd3-4fe4-9b2c-b0faba8ea8d1",
   "metadata": {
    "scrolled": true
   },
   "outputs": [],
   "source": [
    "res = pd.DataFrame()\n",
    "for model in df_val.columns[2:]:\n",
    "    res.loc[model, \"R2\"] = r2_score(df_val[\"Y_TRUE\"], df_val[model])"
   ]
  },
  {
   "cell_type": "code",
   "execution_count": 19,
   "id": "038e567e-1a83-49f0-b831-8c54692c33b4",
   "metadata": {},
   "outputs": [
    {
     "data": {
      "text/html": [
       "<div>\n",
       "<style scoped>\n",
       "    .dataframe tbody tr th:only-of-type {\n",
       "        vertical-align: middle;\n",
       "    }\n",
       "\n",
       "    .dataframe tbody tr th {\n",
       "        vertical-align: top;\n",
       "    }\n",
       "\n",
       "    .dataframe thead th {\n",
       "        text-align: right;\n",
       "    }\n",
       "</style>\n",
       "<table border=\"1\" class=\"dataframe\">\n",
       "  <thead>\n",
       "    <tr style=\"text-align: right;\">\n",
       "      <th></th>\n",
       "      <th>R2</th>\n",
       "    </tr>\n",
       "  </thead>\n",
       "  <tbody>\n",
       "    <tr>\n",
       "      <th>Genetic</th>\n",
       "      <td>0.470755</td>\n",
       "    </tr>\n",
       "    <tr>\n",
       "      <th>Systematic</th>\n",
       "      <td>0.447144</td>\n",
       "    </tr>\n",
       "    <tr>\n",
       "      <th>Random</th>\n",
       "      <td>0.437362</td>\n",
       "    </tr>\n",
       "    <tr>\n",
       "      <th>BasicML|desc2D|MLPRegressor</th>\n",
       "      <td>0.392734</td>\n",
       "    </tr>\n",
       "    <tr>\n",
       "      <th>BasicML|desc2D|SVR</th>\n",
       "      <td>0.391462</td>\n",
       "    </tr>\n",
       "    <tr>\n",
       "      <th>...</th>\n",
       "      <td>...</td>\n",
       "    </tr>\n",
       "    <tr>\n",
       "      <th>BasicML|desc2D|DecisionTreeRegressor</th>\n",
       "      <td>-0.584921</td>\n",
       "    </tr>\n",
       "    <tr>\n",
       "      <th>BasicML|fcfp-count|DecisionTreeRegressor</th>\n",
       "      <td>-0.608773</td>\n",
       "    </tr>\n",
       "    <tr>\n",
       "      <th>BasicML|rdkit|RidgeRegression</th>\n",
       "      <td>-0.622639</td>\n",
       "    </tr>\n",
       "    <tr>\n",
       "      <th>BasicML|ecfp-count|DecisionTreeRegressor</th>\n",
       "      <td>-0.700100</td>\n",
       "    </tr>\n",
       "    <tr>\n",
       "      <th>BasicML|pharm2D-gobbi|RidgeRegression</th>\n",
       "      <td>-1.047869</td>\n",
       "    </tr>\n",
       "  </tbody>\n",
       "</table>\n",
       "<p>156 rows × 1 columns</p>\n",
       "</div>"
      ],
      "text/plain": [
       "                                                R2\n",
       "Genetic                                   0.470755\n",
       "Systematic                                0.447144\n",
       "Random                                    0.437362\n",
       "BasicML|desc2D|MLPRegressor               0.392734\n",
       "BasicML|desc2D|SVR                        0.391462\n",
       "...                                            ...\n",
       "BasicML|desc2D|DecisionTreeRegressor     -0.584921\n",
       "BasicML|fcfp-count|DecisionTreeRegressor -0.608773\n",
       "BasicML|rdkit|RidgeRegression            -0.622639\n",
       "BasicML|ecfp-count|DecisionTreeRegressor -0.700100\n",
       "BasicML|pharm2D-gobbi|RidgeRegression    -1.047869\n",
       "\n",
       "[156 rows x 1 columns]"
      ]
     },
     "execution_count": 19,
     "metadata": {},
     "output_type": "execute_result"
    }
   ],
   "source": [
    "res.sort_values(by=\"R2\", ascending=False)"
   ]
  },
  {
   "cell_type": "code",
   "execution_count": 32,
   "id": "623ca0f9-f30d-4393-86bb-3cf5fe623c38",
   "metadata": {},
   "outputs": [
    {
     "data": {
      "text/html": [
       "<table border=\"1\"><tr><th>benchmark_artifact_id</th><td>polaris/adme-fang-solu-1</td></tr><tr><th>benchmark_name</th><td>None</td></tr><tr><th>benchmark_owner</th><td>None</td></tr><tr><th>results</th><td><table border=\"1\"><thead><tr><th>test_set</th><th>target_label</th><th>scores</th></tr></thead><tbody><tr><td>test</td><td>LOG_SOLUBILITY</td><td><table border=\"1\"><tr><th>explained_var</th><td>0.35711736389720994</td></tr><tr><th>pearsonr</th><td>0.6004002542933552</td></tr><tr><th>mean_squared_error</th><td>0.3491398448007377</td></tr><tr><th>r2</th><td>0.3560427891695943</td></tr><tr><th>mean_absolute_error</th><td>0.4238736241606715</td></tr><tr><th>spearmanr</th><td>0.48347265962427716</td></tr></table></td></tr></tbody></table></td></tr><tr><th>name</th><td>None</td></tr><tr><th>description</th><td></td></tr><tr><th>tags</th><td></td></tr><tr><th>user_attributes</th><td></td></tr><tr><th>owner</th><td>None</td></tr><tr><th>polaris_version</th><td>0.13.0</td></tr><tr><th>slug</th><td>None</td></tr><tr><th>github_url</th><td>None</td></tr><tr><th>paper_url</th><td>None</td></tr><tr><th>contributors</th><td></td></tr><tr><th>artifact_id</th><td>None</td></tr><tr><th>urn</th><td>None</td></tr><tr><th>version</th><td>1</td></tr></table>"
      ],
      "text/plain": [
       "{\n",
       "  \"benchmark_artifact_id\": \"polaris/adme-fang-solu-1\",\n",
       "  \"benchmark_name\": null,\n",
       "  \"benchmark_owner\": null,\n",
       "  \"results\": [\n",
       "    {\n",
       "      \"test_set\": \"test\",\n",
       "      \"target_label\": \"LOG_SOLUBILITY\",\n",
       "      \"scores\": {\n",
       "        \"explained_var\": 0.35711736389720994,\n",
       "        \"pearsonr\": 0.6004002542933552,\n",
       "        \"mean_squared_error\": 0.3491398448007377,\n",
       "        \"r2\": 0.3560427891695943,\n",
       "        \"mean_absolute_error\": 0.4238736241606715,\n",
       "        \"spearmanr\": 0.48347265962427716\n",
       "      }\n",
       "    }\n",
       "  ],\n",
       "  \"name\": null,\n",
       "  \"description\": \"\",\n",
       "  \"tags\": [],\n",
       "  \"user_attributes\": {},\n",
       "  \"owner\": null,\n",
       "  \"polaris_version\": \"0.13.0\",\n",
       "  \"slug\": null,\n",
       "  \"github_url\": null,\n",
       "  \"paper_url\": null,\n",
       "  \"contributors\": [],\n",
       "  \"artifact_id\": null,\n",
       "  \"urn\": null,\n",
       "  \"version\": 1\n",
       "}"
      ]
     },
     "execution_count": 32,
     "metadata": {},
     "output_type": "execute_result"
    }
   ],
   "source": [
    "y_pred = df_test[\"Genetic\"].to_list()\n",
    "results = benchmark.evaluate(y_pred)\n",
    "results"
   ]
  },
  {
   "cell_type": "code",
   "execution_count": 33,
   "id": "56ca1cf2-7a57-4ca5-b0dd-dccc47af3738",
   "metadata": {},
   "outputs": [
    {
     "data": {
      "text/html": [
       "<pre style=\"white-space:pre;overflow-x:auto;line-height:normal;font-family:Menlo,'DejaVu Sans Mono',consolas,'Courier New',monospace\"><span style=\"color: #7fbfbf; text-decoration-color: #7fbfbf\">[2025-10-06 07:45:35] </span><span style=\"color: #000080; text-decoration-color: #000080\">INFO    </span> Your browser has been opened to visit:                        <a href=\"file:///storage/dmitry/miniforge3/envs/qsarmil/lib/python3.10/site-packages/polaris/hub/external_client.py\" target=\"_blank\"><span style=\"color: #7f7f7f; text-decoration-color: #7f7f7f\">external_client.py</span></a><span style=\"color: #7f7f7f; text-decoration-color: #7f7f7f\">:</span><a href=\"file:///storage/dmitry/miniforge3/envs/qsarmil/lib/python3.10/site-packages/polaris/hub/external_client.py#149\" target=\"_blank\"><span style=\"color: #7f7f7f; text-decoration-color: #7f7f7f\">149</span></a>\n",
       "<span style=\"color: #7fbfbf; text-decoration-color: #7fbfbf\">                      </span>         <span style=\"color: #0000ff; text-decoration-color: #0000ff; text-decoration: underline\">https://clerk.polarishub.io/oauth/authorize?response_type=cod</span> <span style=\"color: #7f7f7f; text-decoration-color: #7f7f7f\">                      </span>\n",
       "<span style=\"color: #7fbfbf; text-decoration-color: #7fbfbf\">                      </span>         <span style=\"color: #0000ff; text-decoration-color: #0000ff; text-decoration: underline\">e&amp;client_id=agQP2xVM6JqMHvGc&amp;redirect_uri=https%3A%2F%2Fpolar</span> <span style=\"color: #7f7f7f; text-decoration-color: #7f7f7f\">                      </span>\n",
       "<span style=\"color: #7fbfbf; text-decoration-color: #7fbfbf\">                      </span>         <span style=\"color: #0000ff; text-decoration-color: #0000ff; text-decoration: underline\">ishub.io%2Foauth2%2Fcallback&amp;scope=profile+email&amp;state=ZgvaW1</span> <span style=\"color: #7f7f7f; text-decoration-color: #7f7f7f\">                      </span>\n",
       "<span style=\"color: #7fbfbf; text-decoration-color: #7fbfbf\">                      </span>         <span style=\"color: #0000ff; text-decoration-color: #0000ff; text-decoration: underline\">gA37U0xnGG2IhdaZ5WeAvCLy&amp;code_challenge=VmLW-DCU83focOGYapvV5</span> <span style=\"color: #7f7f7f; text-decoration-color: #7f7f7f\">                      </span>\n",
       "<span style=\"color: #7fbfbf; text-decoration-color: #7fbfbf\">                      </span>         <span style=\"color: #0000ff; text-decoration-color: #0000ff; text-decoration: underline\">MQefcOGEUx-5q90pTWMKrM&amp;code_challenge_method=S256</span>             <span style=\"color: #7f7f7f; text-decoration-color: #7f7f7f\">                      </span>\n",
       "<span style=\"color: #7fbfbf; text-decoration-color: #7fbfbf\">                      </span>                                                                       <span style=\"color: #7f7f7f; text-decoration-color: #7f7f7f\">                      </span>\n",
       "</pre>\n"
      ],
      "text/plain": [
       "\u001b[2;36m[2025-10-06 07:45:35]\u001b[0m\u001b[2;36m \u001b[0m\u001b[34mINFO    \u001b[0m Your browser has been opened to visit:                        \u001b]8;id=553307;file:///storage/dmitry/miniforge3/envs/qsarmil/lib/python3.10/site-packages/polaris/hub/external_client.py\u001b\\\u001b[2mexternal_client.py\u001b[0m\u001b]8;;\u001b\\\u001b[2m:\u001b[0m\u001b]8;id=114754;file:///storage/dmitry/miniforge3/envs/qsarmil/lib/python3.10/site-packages/polaris/hub/external_client.py#149\u001b\\\u001b[2m149\u001b[0m\u001b]8;;\u001b\\\n",
       "\u001b[2;36m                      \u001b[0m         \u001b[4;94mhttps://clerk.polarishub.io/oauth/authorize?\u001b[0m\u001b[4;94mresponse_type\u001b[0m\u001b[4;94m=\u001b[0m\u001b[4;94mcod\u001b[0m \u001b[2m                      \u001b[0m\n",
       "\u001b[2;36m                      \u001b[0m         \u001b[4;94me\u001b[0m\u001b[4;94m&\u001b[0m\u001b[4;94mclient_id\u001b[0m\u001b[4;94m=\u001b[0m\u001b[4;94magQP2xVM6JqMHvGc\u001b[0m\u001b[4;94m&\u001b[0m\u001b[4;94mredirect_uri\u001b[0m\u001b[4;94m=\u001b[0m\u001b[4;94mhttps\u001b[0m\u001b[4;94m%3A%2F%2Fpolar\u001b[0m \u001b[2m                      \u001b[0m\n",
       "\u001b[2;36m                      \u001b[0m         \u001b[4;94mishub.io%2Foauth2%2Fcallback&\u001b[0m\u001b[4;94mscope\u001b[0m\u001b[4;94m=\u001b[0m\u001b[4;94mprofile\u001b[0m\u001b[4;94m+email&\u001b[0m\u001b[4;94mstate\u001b[0m\u001b[4;94m=\u001b[0m\u001b[4;94mZgvaW1\u001b[0m \u001b[2m                      \u001b[0m\n",
       "\u001b[2;36m                      \u001b[0m         \u001b[4;94mgA37U0xnGG2IhdaZ5WeAvCLy\u001b[0m\u001b[4;94m&\u001b[0m\u001b[4;94mcode_challenge\u001b[0m\u001b[4;94m=\u001b[0m\u001b[4;94mVmLW\u001b[0m\u001b[4;94m-DCU83focOGYapvV5\u001b[0m \u001b[2m                      \u001b[0m\n",
       "\u001b[2;36m                      \u001b[0m         \u001b[4;94mMQefcOGEUx-5q90pTWMKrM&\u001b[0m\u001b[4;94mcode_challenge_method\u001b[0m\u001b[4;94m=\u001b[0m\u001b[4;94mS256\u001b[0m             \u001b[2m                      \u001b[0m\n",
       "\u001b[2;36m                      \u001b[0m                                                                       \u001b[2m                      \u001b[0m\n"
      ]
     },
     "metadata": {},
     "output_type": "display_data"
    },
    {
     "name": "stdin",
     "output_type": "stream",
     "text": [
      "Please enter the authorization token:  OGMZZGMWMTITYJQ3MI0ZOWJMLWEZNJGTYJY0YWI5ZDGXN2RK\n"
     ]
    },
    {
     "data": {
      "text/html": [
       "<pre style=\"white-space:pre;overflow-x:auto;line-height:normal;font-family:Menlo,'DejaVu Sans Mono',consolas,'Courier New',monospace\"><span style=\"color: #7fbfbf; text-decoration-color: #7fbfbf\">[2025-10-06 07:46:02] </span><span style=\"color: #000080; text-decoration-color: #000080\">INFO    </span> Successfully authenticated to the Polaris Hub as              <a href=\"file:///storage/dmitry/miniforge3/envs/qsarmil/lib/python3.10/site-packages/polaris/hub/external_client.py\" target=\"_blank\"><span style=\"color: #7f7f7f; text-decoration-color: #7f7f7f\">external_client.py</span></a><span style=\"color: #7f7f7f; text-decoration-color: #7f7f7f\">:</span><a href=\"file:///storage/dmitry/miniforge3/envs/qsarmil/lib/python3.10/site-packages/polaris/hub/external_client.py#160\" target=\"_blank\"><span style=\"color: #7f7f7f; text-decoration-color: #7f7f7f\">160</span></a>\n",
       "<span style=\"color: #7fbfbf; text-decoration-color: #7fbfbf\">                      </span>         `dvzankov@gmail.com`!                                         <span style=\"color: #7f7f7f; text-decoration-color: #7f7f7f\">                      </span>\n",
       "</pre>\n"
      ],
      "text/plain": [
       "\u001b[2;36m[2025-10-06 07:46:02]\u001b[0m\u001b[2;36m \u001b[0m\u001b[34mINFO    \u001b[0m Successfully authenticated to the Polaris Hub as              \u001b]8;id=647632;file:///storage/dmitry/miniforge3/envs/qsarmil/lib/python3.10/site-packages/polaris/hub/external_client.py\u001b\\\u001b[2mexternal_client.py\u001b[0m\u001b]8;;\u001b\\\u001b[2m:\u001b[0m\u001b]8;id=937595;file:///storage/dmitry/miniforge3/envs/qsarmil/lib/python3.10/site-packages/polaris/hub/external_client.py#160\u001b\\\u001b[2m160\u001b[0m\u001b]8;;\u001b\\\n",
       "\u001b[2;36m                      \u001b[0m         `dvzankov@gmail.com`!                                         \u001b[2m                      \u001b[0m\n"
      ]
     },
     "metadata": {},
     "output_type": "display_data"
    },
    {
     "data": {
      "text/html": [
       "<pre style=\"white-space:pre;overflow-x:auto;line-height:normal;font-family:Menlo,'DejaVu Sans Mono',consolas,'Courier New',monospace\"><span style=\"color: #7fbfbf; text-decoration-color: #7fbfbf\">                      </span><span style=\"color: #000080; text-decoration-color: #000080\">INFO    </span> You are successfully logged in to the Polaris Hub.                     <a href=\"file:///storage/dmitry/miniforge3/envs/qsarmil/lib/python3.10/site-packages/polaris/hub/client.py\" target=\"_blank\"><span style=\"color: #7f7f7f; text-decoration-color: #7f7f7f\">client.py</span></a><span style=\"color: #7f7f7f; text-decoration-color: #7f7f7f\">:</span><a href=\"file:///storage/dmitry/miniforge3/envs/qsarmil/lib/python3.10/site-packages/polaris/hub/client.py#245\" target=\"_blank\"><span style=\"color: #7f7f7f; text-decoration-color: #7f7f7f\">245</span></a>\n",
       "</pre>\n"
      ],
      "text/plain": [
       "\u001b[2;36m                     \u001b[0m\u001b[2;36m \u001b[0m\u001b[34mINFO    \u001b[0m You are successfully logged in to the Polaris Hub.                     \u001b]8;id=727505;file:///storage/dmitry/miniforge3/envs/qsarmil/lib/python3.10/site-packages/polaris/hub/client.py\u001b\\\u001b[2mclient.py\u001b[0m\u001b]8;;\u001b\\\u001b[2m:\u001b[0m\u001b]8;id=64351;file:///storage/dmitry/miniforge3/envs/qsarmil/lib/python3.10/site-packages/polaris/hub/client.py#245\u001b\\\u001b[2m245\u001b[0m\u001b]8;;\u001b\\\n"
      ]
     },
     "metadata": {},
     "output_type": "display_data"
    }
   ],
   "source": [
    "from polaris.hub.client import PolarisHubClient\n",
    "with PolarisHubClient() as client:\n",
    "    client.login()"
   ]
  },
  {
   "cell_type": "code",
   "execution_count": 34,
   "id": "164500c8-4b89-48ea-ae26-aa16d592258d",
   "metadata": {},
   "outputs": [
    {
     "data": {
      "text/html": [
       "<pre style=\"white-space:pre;overflow-x:auto;line-height:normal;font-family:Menlo,'DejaVu Sans Mono',consolas,'Courier New',monospace\"><span style=\"color: #7fbfbf; text-decoration-color: #7fbfbf\">[07:46:09] </span><span style=\"color: #008000; text-decoration-color: #008000\">Your result has been successfully uploaded to the Hub. View it here: </span>                      <a href=\"file:///storage/dmitry/miniforge3/envs/qsarmil/lib/python3.10/site-packages/polaris/hub/client.py\" target=\"_blank\"><span style=\"color: #7f7f7f; text-decoration-color: #7f7f7f\">client.py</span></a><span style=\"color: #7f7f7f; text-decoration-color: #7f7f7f\">:</span><a href=\"file:///storage/dmitry/miniforge3/envs/qsarmil/lib/python3.10/site-packages/polaris/hub/client.py#527\" target=\"_blank\"><span style=\"color: #7f7f7f; text-decoration-color: #7f7f7f\">527</span></a>\n",
       "<span style=\"color: #7fbfbf; text-decoration-color: #7fbfbf\">           </span><span style=\"color: #008000; text-decoration-color: #008000; text-decoration: underline\">https://polarishub.io/benchmarks/polaris/adme-fang-solu-1/BRnT0vWtiWMe1z9pXD8s2</span>            <span style=\"color: #7f7f7f; text-decoration-color: #7f7f7f\">             </span>\n",
       "</pre>\n"
      ],
      "text/plain": [
       "\u001b[2;36m[07:46:09]\u001b[0m\u001b[2;36m \u001b[0m\u001b[32mYour result has been successfully uploaded to the Hub. View it here: \u001b[0m                      \u001b]8;id=912452;file:///storage/dmitry/miniforge3/envs/qsarmil/lib/python3.10/site-packages/polaris/hub/client.py\u001b\\\u001b[2mclient.py\u001b[0m\u001b]8;;\u001b\\\u001b[2m:\u001b[0m\u001b]8;id=417758;file:///storage/dmitry/miniforge3/envs/qsarmil/lib/python3.10/site-packages/polaris/hub/client.py#527\u001b\\\u001b[2m527\u001b[0m\u001b]8;;\u001b\\\n",
       "\u001b[2;36m           \u001b[0m\u001b[4;32mhttps://polarishub.io/benchmarks/polaris/adme-fang-solu-1/BRnT0vWtiWMe1z9pXD8s2\u001b[0m            \u001b[2m             \u001b[0m\n"
      ]
     },
     "metadata": {},
     "output_type": "display_data"
    },
    {
     "data": {
      "text/html": [
       "<pre style=\"white-space:pre;overflow-x:auto;line-height:normal;font-family:Menlo,'DejaVu Sans Mono',consolas,'Courier New',monospace\"><span style=\"color: #7fbfbf; text-decoration-color: #7fbfbf\">           </span><span style=\"color: #008000; text-decoration-color: #008000\"> Success: Uploading results</span>                                                                <a href=\"file:///storage/dmitry/miniforge3/envs/qsarmil/lib/python3.10/site-packages/polaris/utils/context.py\" target=\"_blank\"><span style=\"color: #7f7f7f; text-decoration-color: #7f7f7f\">context.py</span></a><span style=\"color: #7f7f7f; text-decoration-color: #7f7f7f\">:</span><a href=\"file:///storage/dmitry/miniforge3/envs/qsarmil/lib/python3.10/site-packages/polaris/utils/context.py#53\" target=\"_blank\"><span style=\"color: #7f7f7f; text-decoration-color: #7f7f7f\">53</span></a>\n",
       "</pre>\n"
      ],
      "text/plain": [
       "\u001b[2;36m          \u001b[0m\u001b[2;36m \u001b[0m\u001b[32m Success: Uploading results\u001b[0m                                                                \u001b]8;id=877295;file:///storage/dmitry/miniforge3/envs/qsarmil/lib/python3.10/site-packages/polaris/utils/context.py\u001b\\\u001b[2mcontext.py\u001b[0m\u001b]8;;\u001b\\\u001b[2m:\u001b[0m\u001b]8;id=36455;file:///storage/dmitry/miniforge3/envs/qsarmil/lib/python3.10/site-packages/polaris/utils/context.py#53\u001b\\\u001b[2m53\u001b[0m\u001b]8;;\u001b\\\n"
      ]
     },
     "metadata": {},
     "output_type": "display_data"
    },
    {
     "data": {
      "text/html": [
       "<pre style=\"white-space:pre;overflow-x:auto;line-height:normal;font-family:Menlo,'DejaVu Sans Mono',consolas,'Courier New',monospace\"></pre>\n"
      ],
      "text/plain": []
     },
     "metadata": {},
     "output_type": "display_data"
    }
   ],
   "source": [
    "results.name = \"QSARcons\"\n",
    "results.upload_to_hub(owner=\"dzankov\")"
   ]
  }
 ],
 "metadata": {
  "kernelspec": {
   "display_name": "qsarmil",
   "language": "python",
   "name": "qsarmil"
  },
  "language_info": {
   "codemirror_mode": {
    "name": "ipython",
    "version": 3
   },
   "file_extension": ".py",
   "mimetype": "text/x-python",
   "name": "python",
   "nbconvert_exporter": "python",
   "pygments_lexer": "ipython3",
   "version": "3.10.18"
  }
 },
 "nbformat": 4,
 "nbformat_minor": 5
}
