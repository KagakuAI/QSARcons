{
 "cells": [
  {
   "cell_type": "code",
   "execution_count": 1,
   "id": "b0a34672-21e0-49ca-a53e-597f08aa65d0",
   "metadata": {},
   "outputs": [
    {
     "name": "stderr",
     "output_type": "stream",
     "text": [
      "/storage/dmitry/miniforge3/envs/qsarmil/lib/python3.10/site-packages/tqdm/auto.py:21: TqdmWarning: IProgress not found. Please update jupyter and ipywidgets. See https://ipywidgets.readthedocs.io/en/stable/user_install.html\n",
      "  from .autonotebook import tqdm as notebook_tqdm\n"
     ]
    }
   ],
   "source": [
    "import polaris\n",
    "import pandas as pd\n",
    "\n",
    "from sklearn.model_selection import train_test_split\n",
    "from sklearn.metrics import r2_score\n",
    "\n",
    "from qsarcons.lazy import LazyML\n",
    "from qsarcons.consensus import RandomSearchRegressor, SystematicSearchRegressor, GeneticSearchRegressor"
   ]
  },
  {
   "cell_type": "code",
   "execution_count": 2,
   "id": "e6921450-bc40-4161-ad6b-2b9acebc94dc",
   "metadata": {},
   "outputs": [],
   "source": [
    "# from polaris.hub.client import PolarisHubClient\n",
    "# with PolarisHubClient() as client:\n",
    "#     client.login()"
   ]
  },
  {
   "cell_type": "markdown",
   "id": "7b5be903-f368-4a1b-812a-35b404569643",
   "metadata": {},
   "source": [
    "### 1. Load data"
   ]
  },
  {
   "cell_type": "code",
   "execution_count": 3,
   "id": "a3ede612-9ced-42b8-a638-3d5a6dd6d2fe",
   "metadata": {},
   "outputs": [
    {
     "data": {
      "text/html": [
       "<pre style=\"white-space:pre;overflow-x:auto;line-height:normal;font-family:Menlo,'DejaVu Sans Mono',consolas,'Courier New',monospace\"><span style=\"color: #7fbfbf; text-decoration-color: #7fbfbf\">[2025-10-06 07:14:45] </span><span style=\"color: #000080; text-decoration-color: #000080\">INFO    </span> The version of Polaris that was used to create the artifact <span style=\"font-weight: bold\">(</span><span style=\"color: #008080; text-decoration-color: #008080; font-weight: bold\">0.0</span>.<span style=\"color: #008080; text-decoration-color: #008080; font-weight: bold\">0</span><span style=\"font-weight: bold\">)</span>  <a href=\"file:///storage/dmitry/miniforge3/envs/qsarmil/lib/python3.10/site-packages/polaris/_artifact.py\" target=\"_blank\"><span style=\"color: #7f7f7f; text-decoration-color: #7f7f7f\">_artifact.py</span></a><span style=\"color: #7f7f7f; text-decoration-color: #7f7f7f\">:</span><a href=\"file:///storage/dmitry/miniforge3/envs/qsarmil/lib/python3.10/site-packages/polaris/_artifact.py#96\" target=\"_blank\"><span style=\"color: #7f7f7f; text-decoration-color: #7f7f7f\">96</span></a>\n",
       "<span style=\"color: #7fbfbf; text-decoration-color: #7fbfbf\">                      </span>         is different from the currently installed version of Polaris         <span style=\"color: #7f7f7f; text-decoration-color: #7f7f7f\">               </span>\n",
       "<span style=\"color: #7fbfbf; text-decoration-color: #7fbfbf\">                      </span>         <span style=\"font-weight: bold\">(</span><span style=\"color: #008080; text-decoration-color: #008080; font-weight: bold\">0.13</span>.<span style=\"color: #008080; text-decoration-color: #008080; font-weight: bold\">0</span><span style=\"font-weight: bold\">)</span>.                                                            <span style=\"color: #7f7f7f; text-decoration-color: #7f7f7f\">               </span>\n",
       "</pre>\n"
      ],
      "text/plain": [
       "\u001b[2;36m[2025-10-06 07:14:45]\u001b[0m\u001b[2;36m \u001b[0m\u001b[34mINFO    \u001b[0m The version of Polaris that was used to create the artifact \u001b[1m(\u001b[0m\u001b[1;36m0.0\u001b[0m.\u001b[1;36m0\u001b[0m\u001b[1m)\u001b[0m  \u001b]8;id=666880;file:///storage/dmitry/miniforge3/envs/qsarmil/lib/python3.10/site-packages/polaris/_artifact.py\u001b\\\u001b[2m_artifact.py\u001b[0m\u001b]8;;\u001b\\\u001b[2m:\u001b[0m\u001b]8;id=234449;file:///storage/dmitry/miniforge3/envs/qsarmil/lib/python3.10/site-packages/polaris/_artifact.py#96\u001b\\\u001b[2m96\u001b[0m\u001b]8;;\u001b\\\n",
       "\u001b[2;36m                      \u001b[0m         is different from the currently installed version of Polaris         \u001b[2m               \u001b[0m\n",
       "\u001b[2;36m                      \u001b[0m         \u001b[1m(\u001b[0m\u001b[1;36m0.13\u001b[0m.\u001b[1;36m0\u001b[0m\u001b[1m)\u001b[0m.                                                            \u001b[2m               \u001b[0m\n"
      ]
     },
     "metadata": {},
     "output_type": "display_data"
    },
    {
     "data": {
      "text/html": [
       "<pre style=\"white-space:pre;overflow-x:auto;line-height:normal;font-family:Menlo,'DejaVu Sans Mono',consolas,'Courier New',monospace\"><span style=\"color: #7fbfbf; text-decoration-color: #7fbfbf\">                      </span><span style=\"color: #000080; text-decoration-color: #000080\">INFO    </span> To verify the checksum, we need to recompute it. This can be slow    <a href=\"file:///storage/dmitry/miniforge3/envs/qsarmil/lib/python3.10/site-packages/polaris/mixins/_checksum.py\" target=\"_blank\"><span style=\"color: #7f7f7f; text-decoration-color: #7f7f7f\">_checksum.py</span></a><span style=\"color: #7f7f7f; text-decoration-color: #7f7f7f\">:</span><a href=\"file:///storage/dmitry/miniforge3/envs/qsarmil/lib/python3.10/site-packages/polaris/mixins/_checksum.py#67\" target=\"_blank\"><span style=\"color: #7f7f7f; text-decoration-color: #7f7f7f\">67</span></a>\n",
       "<span style=\"color: #7fbfbf; text-decoration-color: #7fbfbf\">                      </span>         for large datasets.                                                  <span style=\"color: #7f7f7f; text-decoration-color: #7f7f7f\">               </span>\n",
       "</pre>\n"
      ],
      "text/plain": [
       "\u001b[2;36m                     \u001b[0m\u001b[2;36m \u001b[0m\u001b[34mINFO    \u001b[0m To verify the checksum, we need to recompute it. This can be slow    \u001b]8;id=292307;file:///storage/dmitry/miniforge3/envs/qsarmil/lib/python3.10/site-packages/polaris/mixins/_checksum.py\u001b\\\u001b[2m_checksum.py\u001b[0m\u001b]8;;\u001b\\\u001b[2m:\u001b[0m\u001b]8;id=780069;file:///storage/dmitry/miniforge3/envs/qsarmil/lib/python3.10/site-packages/polaris/mixins/_checksum.py#67\u001b\\\u001b[2m67\u001b[0m\u001b]8;;\u001b\\\n",
       "\u001b[2;36m                      \u001b[0m         for large datasets.                                                  \u001b[2m               \u001b[0m\n"
      ]
     },
     "metadata": {},
     "output_type": "display_data"
    },
    {
     "data": {
      "text/html": [
       "<pre style=\"white-space:pre;overflow-x:auto;line-height:normal;font-family:Menlo,'DejaVu Sans Mono',consolas,'Courier New',monospace\"><span style=\"color: #7fbfbf; text-decoration-color: #7fbfbf\">[07:14:45] </span><span style=\"color: #008000; text-decoration-color: #008000\"> Success: Fetching dataset</span>                                                                 <a href=\"file:///storage/dmitry/miniforge3/envs/qsarmil/lib/python3.10/site-packages/polaris/utils/context.py\" target=\"_blank\"><span style=\"color: #7f7f7f; text-decoration-color: #7f7f7f\">context.py</span></a><span style=\"color: #7f7f7f; text-decoration-color: #7f7f7f\">:</span><a href=\"file:///storage/dmitry/miniforge3/envs/qsarmil/lib/python3.10/site-packages/polaris/utils/context.py#53\" target=\"_blank\"><span style=\"color: #7f7f7f; text-decoration-color: #7f7f7f\">53</span></a>\n",
       "</pre>\n"
      ],
      "text/plain": [
       "\u001b[2;36m[07:14:45]\u001b[0m\u001b[2;36m \u001b[0m\u001b[32m Success: Fetching dataset\u001b[0m                                                                 \u001b]8;id=192660;file:///storage/dmitry/miniforge3/envs/qsarmil/lib/python3.10/site-packages/polaris/utils/context.py\u001b\\\u001b[2mcontext.py\u001b[0m\u001b]8;;\u001b\\\u001b[2m:\u001b[0m\u001b]8;id=185980;file:///storage/dmitry/miniforge3/envs/qsarmil/lib/python3.10/site-packages/polaris/utils/context.py#53\u001b\\\u001b[2m53\u001b[0m\u001b]8;;\u001b\\\n"
      ]
     },
     "metadata": {},
     "output_type": "display_data"
    },
    {
     "data": {
      "text/html": [
       "<pre style=\"white-space:pre;overflow-x:auto;line-height:normal;font-family:Menlo,'DejaVu Sans Mono',consolas,'Courier New',monospace\"><span style=\"color: #7fbfbf; text-decoration-color: #7fbfbf\">                      </span><span style=\"color: #000080; text-decoration-color: #000080\">INFO    </span> The version of Polaris that was used to create the artifact <span style=\"font-weight: bold\">(</span><span style=\"color: #008080; text-decoration-color: #008080; font-weight: bold\">0.0</span>.<span style=\"color: #008080; text-decoration-color: #008080; font-weight: bold\">0</span><span style=\"font-weight: bold\">)</span>  <a href=\"file:///storage/dmitry/miniforge3/envs/qsarmil/lib/python3.10/site-packages/polaris/_artifact.py\" target=\"_blank\"><span style=\"color: #7f7f7f; text-decoration-color: #7f7f7f\">_artifact.py</span></a><span style=\"color: #7f7f7f; text-decoration-color: #7f7f7f\">:</span><a href=\"file:///storage/dmitry/miniforge3/envs/qsarmil/lib/python3.10/site-packages/polaris/_artifact.py#96\" target=\"_blank\"><span style=\"color: #7f7f7f; text-decoration-color: #7f7f7f\">96</span></a>\n",
       "<span style=\"color: #7fbfbf; text-decoration-color: #7fbfbf\">                      </span>         is different from the currently installed version of Polaris         <span style=\"color: #7f7f7f; text-decoration-color: #7f7f7f\">               </span>\n",
       "<span style=\"color: #7fbfbf; text-decoration-color: #7fbfbf\">                      </span>         <span style=\"font-weight: bold\">(</span><span style=\"color: #008080; text-decoration-color: #008080; font-weight: bold\">0.13</span>.<span style=\"color: #008080; text-decoration-color: #008080; font-weight: bold\">0</span><span style=\"font-weight: bold\">)</span>.                                                            <span style=\"color: #7f7f7f; text-decoration-color: #7f7f7f\">               </span>\n",
       "</pre>\n"
      ],
      "text/plain": [
       "\u001b[2;36m                     \u001b[0m\u001b[2;36m \u001b[0m\u001b[34mINFO    \u001b[0m The version of Polaris that was used to create the artifact \u001b[1m(\u001b[0m\u001b[1;36m0.0\u001b[0m.\u001b[1;36m0\u001b[0m\u001b[1m)\u001b[0m  \u001b]8;id=957055;file:///storage/dmitry/miniforge3/envs/qsarmil/lib/python3.10/site-packages/polaris/_artifact.py\u001b\\\u001b[2m_artifact.py\u001b[0m\u001b]8;;\u001b\\\u001b[2m:\u001b[0m\u001b]8;id=59990;file:///storage/dmitry/miniforge3/envs/qsarmil/lib/python3.10/site-packages/polaris/_artifact.py#96\u001b\\\u001b[2m96\u001b[0m\u001b]8;;\u001b\\\n",
       "\u001b[2;36m                      \u001b[0m         is different from the currently installed version of Polaris         \u001b[2m               \u001b[0m\n",
       "\u001b[2;36m                      \u001b[0m         \u001b[1m(\u001b[0m\u001b[1;36m0.13\u001b[0m.\u001b[1;36m0\u001b[0m\u001b[1m)\u001b[0m.                                                            \u001b[2m               \u001b[0m\n"
      ]
     },
     "metadata": {},
     "output_type": "display_data"
    },
    {
     "data": {
      "text/html": [
       "<pre style=\"white-space:pre;overflow-x:auto;line-height:normal;font-family:Menlo,'DejaVu Sans Mono',consolas,'Courier New',monospace\"><span style=\"color: #7fbfbf; text-decoration-color: #7fbfbf\">                      </span><span style=\"color: #808000; text-decoration-color: #808000\">WARNING </span> No checksum to verify against. Specify either the md5sum parameter   <a href=\"file:///storage/dmitry/miniforge3/envs/qsarmil/lib/python3.10/site-packages/polaris/mixins/_checksum.py\" target=\"_blank\"><span style=\"color: #7f7f7f; text-decoration-color: #7f7f7f\">_checksum.py</span></a><span style=\"color: #7f7f7f; text-decoration-color: #7f7f7f\">:</span><a href=\"file:///storage/dmitry/miniforge3/envs/qsarmil/lib/python3.10/site-packages/polaris/mixins/_checksum.py#60\" target=\"_blank\"><span style=\"color: #7f7f7f; text-decoration-color: #7f7f7f\">60</span></a>\n",
       "<span style=\"color: #7fbfbf; text-decoration-color: #7fbfbf\">                      </span>         or store the checksum in the dataset.md5sum attribute.               <span style=\"color: #7f7f7f; text-decoration-color: #7f7f7f\">               </span>\n",
       "</pre>\n"
      ],
      "text/plain": [
       "\u001b[2;36m                     \u001b[0m\u001b[2;36m \u001b[0m\u001b[33mWARNING \u001b[0m No checksum to verify against. Specify either the md5sum parameter   \u001b]8;id=898014;file:///storage/dmitry/miniforge3/envs/qsarmil/lib/python3.10/site-packages/polaris/mixins/_checksum.py\u001b\\\u001b[2m_checksum.py\u001b[0m\u001b]8;;\u001b\\\u001b[2m:\u001b[0m\u001b]8;id=316851;file:///storage/dmitry/miniforge3/envs/qsarmil/lib/python3.10/site-packages/polaris/mixins/_checksum.py#60\u001b\\\u001b[2m60\u001b[0m\u001b]8;;\u001b\\\n",
       "\u001b[2;36m                      \u001b[0m         or store the checksum in the dataset.md5sum attribute.               \u001b[2m               \u001b[0m\n"
      ]
     },
     "metadata": {},
     "output_type": "display_data"
    },
    {
     "data": {
      "text/html": [
       "<pre style=\"white-space:pre;overflow-x:auto;line-height:normal;font-family:Menlo,'DejaVu Sans Mono',consolas,'Courier New',monospace\"><span style=\"color: #7fbfbf; text-decoration-color: #7fbfbf\">           </span><span style=\"color: #008000; text-decoration-color: #008000\"> Success: Fetching benchmark</span>                                                               <a href=\"file:///storage/dmitry/miniforge3/envs/qsarmil/lib/python3.10/site-packages/polaris/utils/context.py\" target=\"_blank\"><span style=\"color: #7f7f7f; text-decoration-color: #7f7f7f\">context.py</span></a><span style=\"color: #7f7f7f; text-decoration-color: #7f7f7f\">:</span><a href=\"file:///storage/dmitry/miniforge3/envs/qsarmil/lib/python3.10/site-packages/polaris/utils/context.py#53\" target=\"_blank\"><span style=\"color: #7f7f7f; text-decoration-color: #7f7f7f\">53</span></a>\n",
       "</pre>\n"
      ],
      "text/plain": [
       "\u001b[2;36m          \u001b[0m\u001b[2;36m \u001b[0m\u001b[32m Success: Fetching benchmark\u001b[0m                                                               \u001b]8;id=803337;file:///storage/dmitry/miniforge3/envs/qsarmil/lib/python3.10/site-packages/polaris/utils/context.py\u001b\\\u001b[2mcontext.py\u001b[0m\u001b]8;;\u001b\\\u001b[2m:\u001b[0m\u001b]8;id=922660;file:///storage/dmitry/miniforge3/envs/qsarmil/lib/python3.10/site-packages/polaris/utils/context.py#53\u001b\\\u001b[2m53\u001b[0m\u001b]8;;\u001b\\\n"
      ]
     },
     "metadata": {},
     "output_type": "display_data"
    },
    {
     "data": {
      "text/html": [
       "<pre style=\"white-space:pre;overflow-x:auto;line-height:normal;font-family:Menlo,'DejaVu Sans Mono',consolas,'Courier New',monospace\"></pre>\n"
      ],
      "text/plain": []
     },
     "metadata": {},
     "output_type": "display_data"
    }
   ],
   "source": [
    "# Load the benchmark from the Hub\n",
    "benchmark = polaris.load_benchmark(\"polaris/adme-fang-solu-1\")\n",
    "\n",
    "# Get the train and test data-loaders\n",
    "data_train, data_test = benchmark.get_train_test_split()\n",
    "data_train, data_test = data_train.as_dataframe(), data_test.as_dataframe()\n",
    "\n",
    "smi_train, prop_train = data_train[\"smiles\"].to_list(), data_train[\"LOG_SOLUBILITY\"].to_list()\n",
    "\n",
    "data_train, data_val = train_test_split(data_train, test_size=0.2, random_state=42)"
   ]
  },
  {
   "cell_type": "markdown",
   "id": "23ed66e1-5365-4be2-8771-f929bce05202",
   "metadata": {},
   "source": [
    "### 2. Build multiple 2D models"
   ]
  },
  {
   "cell_type": "code",
   "execution_count": null,
   "id": "74b18eff-a32c-4e24-9bd5-c8700af96d9a",
   "metadata": {
    "scrolled": true
   },
   "outputs": [
    {
     "name": "stdout",
     "output_type": "stream",
     "text": [
      "Total models to build: 152\n"
     ]
    },
    {
     "name": "stderr",
     "output_type": "stream",
     "text": [
      " 55%|████████████████████████████████████████████▊                                     | 83/152 [06:25<06:10,  5.37s/it]"
     ]
    }
   ],
   "source": [
    "data_test[\"LogS\"] = [0 for i in data_test.index]\n",
    "\n",
    "lazy_ml = LazyML(task=\"regression\", output_folder=\"logs_bench\", verbose=True)\n",
    "lazy_ml.run(data_train, data_val, data_test)"
   ]
  },
  {
   "cell_type": "markdown",
   "id": "8dc53fd8-7b77-43d9-aff0-4322e5bae5c7",
   "metadata": {},
   "source": [
    "### 3. Build model consensus"
   ]
  },
  {
   "cell_type": "code",
   "execution_count": null,
   "id": "283d8254-0ea7-4e4b-b433-b86b60f21b88",
   "metadata": {},
   "outputs": [],
   "source": [
    "metric = \"auto\"\n",
    "cons_size = \"auto\""
   ]
  },
  {
   "cell_type": "code",
   "execution_count": null,
   "id": "ba69d740-14df-4bd3-bf68-cdf2dfa9a2a1",
   "metadata": {},
   "outputs": [],
   "source": [
    "cons_methods = [\n",
    "    (\"Best\", SystematicSearchRegressor(cons_size=1, metric=metric)),         \n",
    "    (\"Random\", RandomSearchSystematicSearchRegressor(cons_size=cons_size, n_iter=1000, metric=metric)),       \n",
    "    (\"Systematic\", SystematicSearchSystematicSearchRegressor(cons_size=cons_size, metric=metric)),\n",
    "    (\"Genetic\", GeneticSearchSystematicSearchRegressor(cons_size=cons_size, n_iter=50, pop_size=50, mut_prob=0.2, metric=metric))\n",
    "]"
   ]
  },
  {
   "cell_type": "code",
   "execution_count": null,
   "id": "d2bec8be-dd6a-4511-9ed7-49b75c0d9875",
   "metadata": {},
   "outputs": [],
   "source": [
    "# load model predictions\n",
    "df_val = pd.read_csv(\"logs_bench/val.csv\")\n",
    "df_test = pd.read_csv(\"logs_bench/test.csv\")\n",
    "\n",
    "# skip first two columns (smiles and true property value)\n",
    "x_val, true_val = df_val.iloc[:, 2:], df_val.iloc[:, 1]\n",
    "x_test, true_test = df_test.iloc[:, 2:]"
   ]
  },
  {
   "cell_type": "code",
   "execution_count": null,
   "id": "74c84355-d2ac-4439-87de-ded949553f66",
   "metadata": {},
   "outputs": [],
   "source": [
    "for name, cons_searcher in cons_methods:\n",
    "    \n",
    "    # run search\n",
    "    best_cons = cons_searcher.run(x_val, true_val)\n",
    "    \n",
    "    # make val and test predictions\n",
    "    pred_val = cons_searcher._consensus_predict(x_val[best_cons])\n",
    "    pred_test = cons_searcher._consensus_predict(x_test[best_cons])\n",
    "    \n",
    "    # write prediction accuracy metric\n",
    "    df_val[name] = pred_val\n",
    "    df_test[name] = pred_test"
   ]
  },
  {
   "cell_type": "code",
   "execution_count": null,
   "id": "8a107c2b-9c32-4544-b697-bef49fd0d5f7",
   "metadata": {},
   "outputs": [],
   "source": []
  },
  {
   "cell_type": "code",
   "execution_count": null,
   "id": "a7afb400-1dd3-4fe4-9b2c-b0faba8ea8d1",
   "metadata": {},
   "outputs": [],
   "source": []
  },
  {
   "cell_type": "code",
   "execution_count": null,
   "id": "038e567e-1a83-49f0-b831-8c54692c33b4",
   "metadata": {},
   "outputs": [],
   "source": []
  },
  {
   "cell_type": "code",
   "execution_count": null,
   "id": "35e13720-538d-4c1d-b271-8630b0d36d65",
   "metadata": {},
   "outputs": [],
   "source": []
  }
 ],
 "metadata": {
  "kernelspec": {
   "display_name": "qsarmil",
   "language": "python",
   "name": "qsarmil"
  },
  "language_info": {
   "codemirror_mode": {
    "name": "ipython",
    "version": 3
   },
   "file_extension": ".py",
   "mimetype": "text/x-python",
   "name": "python",
   "nbconvert_exporter": "python",
   "pygments_lexer": "ipython3",
   "version": "3.10.18"
  }
 },
 "nbformat": 4,
 "nbformat_minor": 5
}
